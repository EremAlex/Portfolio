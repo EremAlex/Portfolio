{
 "cells": [
  {
   "cell_type": "markdown",
   "id": "d59fc021",
   "metadata": {},
   "source": [
    "# Исследование данных об инвестициях венчурных фондов в компании-стартапы"
   ]
  },
  
  {
   "cell_type": "markdown",
   "id": "77f4b570",
   "metadata": {},
   "source": [
    "1. Посчитайте, сколько компаний закрылось."
   ]
  },
  {
   "cell_type": "markdown",
   "id": "60432671",
   "metadata": {},
   "source": [
    "    SELECT COUNT(name)  \n",
    "    FROM company  \n",
    "    WHERE status = 'closed';"
   ]
  },
  {
   "cell_type": "markdown",
   "id": "4c4365ab",
   "metadata": {},
   "source": [
    "2. Отобразите количество привлечённых средств для новостных компаний США. Используйте данные из таблицы company. Отсортируйте таблицу по убыванию значений в поле funding_total ."
   ]
  },
  {
   "cell_type": "markdown",
   "id": "4876e512",
   "metadata": {},
   "source": [
    "    SELECT SUM(funding_total)  \n",
    "    FROM company  \n",
    "    WHERE category_code = 'news'  \n",
    "    AND country_code = 'USA'  \n",
    "    GROUP BY name  \n",
    "    ORDER BY SUM(funding_total) DESC;"
   ]
  },
  {
   "cell_type": "markdown",
   "id": "c5421f61",
   "metadata": {},
   "source": [
    "3. Найдите общую сумму сделок по покупке одних компаний другими в долларах. Отберите сделки, которые осуществлялись только за наличные с 2011 по 2013 год включительно."
   ]
  },
  {
   "cell_type": "markdown",
   "id": "9564dd7d",
   "metadata": {},
   "source": [
    "    SELECT SUM(price_amount)  \n",
    "    FROM acquisition  \n",
    "    WHERE term_code = 'cash'  \n",
    "    AND EXTRACT(year FROM acquired_at) IN (2011, 2012, 2013);"
   ]
  },
  {
   "cell_type": "markdown",
   "id": "df463d5c",
   "metadata": {},
   "source": [
    "4. Отобразите имя, фамилию и названия аккаунтов людей в твиттере, у которых названия аккаунтов начинаются на 'Silver'."
   ]
  },
  {
   "cell_type": "markdown",
   "id": "d8c66fdd",
   "metadata": {},
   "source": [
    "    SELECT first_name,  \n",
    "           last_name,  \n",
    "           twitter_username  \n",
    "    FROM people  \n",
    "    WHERE twitter_username LIKE 'Silver%';  "
   ]
  },
  {
   "cell_type": "markdown",
   "id": "43bd444a",
   "metadata": {},
   "source": [
    "5. Выведите на экран всю информацию о людях, у которых названия аккаунтов в твиттере содержат подстроку 'money', а фамилия начинается на 'K'."
   ]
  },
  {
   "cell_type": "markdown",
   "id": "631ae688",
   "metadata": {},
   "source": [
    "    SELECT id,\n",
    "           first_name,\n",
    "           last_name,\n",
    "           company_id,\n",
    "           twitter_username,\n",
    "           created_at,\n",
    "           updated_at\n",
    "    FROM people\n",
    "    WHERE twitter_username LIKE '%money%'\n",
    "    AND last_name LIKE 'K%';"
   ]
  },
  {
   "cell_type": "markdown",
   "id": "48317cb5",
   "metadata": {},
   "source": [
    "6. Для каждой страны отобразите общую сумму привлечённых инвестиций, которые получили компании, зарегистрированные в этой стране. Страну, в которой зарегистрирована компания, можно определить по коду страны. Отсортируйте данные по убыванию суммы."
   ]
  },
  {
   "cell_type": "markdown",
   "id": "f6337f15",
   "metadata": {},
   "source": [
    "    SELECT country_code,\n",
    "           SUM(funding_total) AS s\n",
    "    FROM company\n",
    "    GROUP BY country_code\n",
    "    ORDER BY s DESC;"
   ]
  },
  {
   "cell_type": "markdown",
   "id": "81f01543",
   "metadata": {},
   "source": [
    "7. Составьте таблицу, в которую войдёт дата проведения раунда, а также минимальное и максимальное значения суммы инвестиций, привлечённых в эту дату.\n",
    "Оставьте в итоговой таблице только те записи, в которых минимальное значение суммы инвестиций не равно нулю и не равно максимальному значению."
   ]
  },
  {
   "cell_type": "markdown",
   "id": "2201929e",
   "metadata": {},
   "source": [
    "    SELECT funded_at,\n",
    "           MIN(raised_amount),\n",
    "           MAX(raised_amount)\n",
    "    FROM funding_round\n",
    "    GROUP BY funded_at\n",
    "    HAVING MIN(raised_amount) != MAX(raised_amount)\n",
    "    AND MIN(raised_amount) != 0;"
   ]
  },
  {
   "cell_type": "markdown",
   "id": "6447c99e",
   "metadata": {},
   "source": [
    "8. Создайте поле с категориями:\n",
    "Для фондов, которые инвестируют в 100 и более компаний, назначьте категорию high_activity.\n",
    "Для фондов, которые инвестируют в 20 и более компаний до 100, назначьте категорию middle_activity.\n",
    "Если количество инвестируемых компаний фонда не достигает 20, назначьте категорию low_activity.\n",
    "Отобразите все поля таблицы fund и новое поле с категориями."
   ]
  },
  {
   "cell_type": "markdown",
   "id": "22f66298",
   "metadata": {},
   "source": [
    "    SELECT id,\n",
    "           name,\n",
    "           founded_at,\n",
    "           domain,\n",
    "           twitter_username,\n",
    "           country_code,\n",
    "           investment_rounds,\n",
    "           invested_companies,\n",
    "           milestones,\n",
    "           created_at,\n",
    "           updated_at,\n",
    "           CASE\n",
    "               WHEN invested_companies >= 100 THEN 'high_activity'\n",
    "               WHEN invested_companies >= 20 THEN 'middle_activity'\n",
    "               ELSE 'low_activity'\n",
    "           END\n",
    "    FROM fund;"
   ]
  },
  {
   "cell_type": "markdown",
   "id": "9081a373",
   "metadata": {},
   "source": [
    "9. Для каждой из категорий, назначенных в предыдущем задании, посчитайте округлённое до ближайшего целого числа среднее количество инвестиционных раундов, в которых фонд принимал участие. Выведите на экран категории и среднее число инвестиционных раундов. Отсортируйте таблицу по возрастанию среднего."
   ]
  },
  {
   "cell_type": "markdown",
   "id": "8b7cede4",
   "metadata": {},
   "source": [
    "    SELECT ROUND(AVG(investment_rounds), 0) AS a,\n",
    "           CASE\n",
    "               WHEN invested_companies>=100 THEN 'high_activity'\n",
    "               WHEN invested_companies>=20 THEN 'middle_activity'\n",
    "               ELSE 'low_activity'\n",
    "           END AS activity\n",
    "    FROM fund\n",
    "    GROUP BY activity\n",
    "    ORDER BY a;"
   ]
  },
  {
   "cell_type": "markdown",
   "id": "5999b7cb",
   "metadata": {},
   "source": [
    "10. Проанализируйте, в каких странах находятся фонды, которые чаще всего инвестируют в стартапы. \n",
    "Для каждой страны посчитайте минимальное, максимальное и среднее число компаний, в которые инвестировали фонды этой страны, основанные с 2010 по 2012 год включительно. Исключите страны с фондами, у которых минимальное число компаний, получивших инвестиции, равно нулю. Выгрузите десять самых активных стран-инвесторов.\n",
    "Отсортируйте таблицу по среднему количеству компаний от большего к меньшему, а затем по коду страны в лексикографическом порядке."
   ]
  },
  {
   "cell_type": "markdown",
   "id": "97444b6d",
   "metadata": {},
   "source": [
    "    SELECT country_code,\n",
    "           MIN(invested_companies),\n",
    "           MAX(invested_companies),\n",
    "           AVG(invested_companies)\n",
    "    FROM fund\n",
    "    WHERE EXTRACT(year FROM founded_at) IN (2010, 2011, 2012)\n",
    "    GROUP BY country_code\n",
    "    HAVING MIN(invested_companies) > 0\n",
    "    ORDER BY AVG(invested_companies) DESC, country_code\n",
    "    LIMIT 10;"
   ]
  },
  {
   "cell_type": "markdown",
   "id": "47e8af8d",
   "metadata": {},
   "source": [
    "11. Отобразите имя и фамилию всех сотрудников стартапов. Добавьте поле с названием учебного заведения, которое окончил сотрудник, если эта информация известна."
   ]
  },
  {
   "cell_type": "markdown",
   "id": "6423cc7c",
   "metadata": {},
   "source": [
    "    SELECT p.first_name,\n",
    "           p.last_name,\n",
    "           e.instituition\n",
    "    FROM people AS p\n",
    "    LEFT JOIN education AS e ON p.id=e.person_id;"
   ]
  },
  {
   "cell_type": "markdown",
   "id": "cfaef59a",
   "metadata": {},
   "source": [
    "12. Для каждой компании найдите количество учебных заведений, которые окончили её сотрудники. Выведите название компании и число уникальных названий учебных заведений. Составьте топ-5 компаний по количеству университетов."
   ]
  },
  {
   "cell_type": "markdown",
   "id": "dfd13ed6",
   "metadata": {},
   "source": [
    "    SELECT c.name,\n",
    "           COUNT(DISTINCT e.instituition) AS ei\n",
    "    FROM company AS c\n",
    "    LEFT JOIN people AS p ON c.id=p.company_id\n",
    "    INNER JOIN education AS e ON p.id=e.person_id\n",
    "    GROUP by c.name\n",
    "    ORDER BY ei DESC\n",
    "    LIMIT 5;"
   ]
  },
  {
   "cell_type": "markdown",
   "id": "a4d014f2",
   "metadata": {},
   "source": [
    "13. Составьте список с уникальными названиями закрытых компаний, для которых первый раунд финансирования оказался последним."
   ]
  },
  {
   "cell_type": "markdown",
   "id": "4c1948c7",
   "metadata": {},
   "source": [
    "    SELECT DISTINCT c.name\n",
    "    FROM company AS c\n",
    "    LEFT JOIN funding_round AS fr ON c.id=fr.company_id\n",
    "    WHERE c.status='closed'\n",
    "    AND fr.is_first_round=1\n",
    "    AND fr.is_last_round=1;"
   ]
  },
  {
   "cell_type": "markdown",
   "id": "e2a20b1c",
   "metadata": {},
   "source": [
    "14. Составьте список уникальных номеров сотрудников, которые работают в компаниях, отобранных в предыдущем задании."
   ]
  },
  {
   "cell_type": "markdown",
   "id": "acdd1715",
   "metadata": {},
   "source": [
    "    SELECT id\n",
    "    FROM people\n",
    "    WHERE company_id IN (SELECT DISTINCT c.id\n",
    "        FROM company AS c\n",
    "        LEFT JOIN funding_round AS fr ON c.id=fr.company_id\n",
    "        WHERE c.status='closed'\n",
    "        AND fr.is_first_round=1\n",
    "        AND fr.is_last_round=1);"
   ]
  },
  {
   "cell_type": "markdown",
   "id": "fcc420c3",
   "metadata": {},
   "source": [
    "15. Составьте таблицу, куда войдут уникальные пары с номерами сотрудников из предыдущей задачи и учебным заведением, которое окончил сотрудник."
   ]
  },
  {
   "cell_type": "markdown",
   "id": "fc37d651",
   "metadata": {},
   "source": [
    "    SELECT DISTINCT p.id,\n",
    "           e.instituition\n",
    "    FROM people AS p\n",
    "    INNER JOIN education AS e ON p.id=e.person_id\n",
    "    WHERE company_id IN (SELECT DISTINCT c.id\n",
    "        FROM company AS c\n",
    "        LEFT JOIN funding_round AS fr ON c.id=fr.company_id\n",
    "        WHERE c.status='closed'\n",
    "        AND fr.is_first_round=1\n",
    "        AND fr.is_last_round=1);"
   ]
  },
  {
   "cell_type": "markdown",
   "id": "cfb535aa",
   "metadata": {},
   "source": [
    "16. Посчитайте количество учебных заведений для каждого сотрудника из предыдущего задания. При подсчёте учитывайте, что некоторые сотрудники могли окончить одно и то же заведение дважды."
   ]
  },
  {
   "cell_type": "markdown",
   "id": "6cf5ac77",
   "metadata": {},
   "source": [
    "    SELECT p.id,\n",
    "           COUNT(e.instituition)\n",
    "    FROM people AS p\n",
    "    INNER JOIN education AS e ON p.id=e.person_id\n",
    "    WHERE company_id IN (SELECT DISTINCT c.id\n",
    "        FROM company AS c\n",
    "        LEFT JOIN funding_round AS fr ON c.id=fr.company_id\n",
    "        WHERE c.status='closed'\n",
    "        AND fr.is_first_round=1\n",
    "        AND fr.is_last_round=1)\n",
    "    GROUP BY p.id;"
   ]
  },
  {
   "cell_type": "markdown",
   "id": "7a86af45",
   "metadata": {},
   "source": [
    "17. Дополните предыдущий запрос и выведите среднее число учебных заведений (всех, не только уникальных), которые окончили сотрудники разных компаний. Нужно вывести только одну запись, группировка здесь не понадобится."
   ]
  },
  {
   "cell_type": "markdown",
   "id": "b9185b97",
   "metadata": {},
   "source": [
    "    SELECT SUM(count)/COUNT(id)\n",
    "    FROM (SELECT p.id,\n",
    "           COUNT(e.instituition)\n",
    "    FROM people AS p\n",
    "    INNER JOIN education AS e ON p.id=e.person_id\n",
    "    WHERE company_id IN (SELECT DISTINCT c.id\n",
    "        FROM company AS c\n",
    "        LEFT JOIN funding_round AS fr ON c.id=fr.company_id\n",
    "        WHERE c.status='closed'\n",
    "        AND fr.is_first_round=1\n",
    "        AND fr.is_last_round=1)\n",
    "    GROUP BY p.id) AS t1;"
   ]
  },
  {
   "cell_type": "markdown",
   "id": "eba16280",
   "metadata": {},
   "source": [
    "18. Напишите похожий запрос: выведите среднее число учебных заведений (всех, не только уникальных), которые окончили сотрудники Facebook."
   ]
  },
  {
   "cell_type": "markdown",
   "id": "c56db6ac",
   "metadata": {},
   "source": [
    "    SELECT SUM(count)/COUNT(id)\n",
    "    FROM (SELECT p.id,\n",
    "           COUNT(e.instituition)\n",
    "    FROM people AS p\n",
    "    INNER JOIN education AS e ON p.id=e.person_id\n",
    "    WHERE company_id IN (SELECT DISTINCT c.id\n",
    "        FROM company AS c\n",
    "        LEFT JOIN funding_round AS fr ON c.id=fr.company_id\n",
    "        WHERE c.name='Facebook')\n",
    "    GROUP BY p.id) AS t1;"
   ]
  },
  {
   "cell_type": "markdown",
   "id": "888d8c6a",
   "metadata": {},
   "source": [
    "19. Составьте таблицу из полей:\n",
    "name_of_fund — название фонда;\n",
    "name_of_company — название компании;\n",
    "amount — сумма инвестиций, которую привлекла компания в раунде.\n",
    "В таблицу войдут данные о компаниях, в истории которых было больше шести важных этапов, а раунды финансирования проходили с 2012 по 2013 год включительно."
   ]
  },
  {
   "cell_type": "markdown",
   "id": "397fe9cf",
   "metadata": {},
   "source": [
    "    SELECT f.name AS name_of_fund,\n",
    "           c.name AS name_of_company,\n",
    "           fr.raised_amount AS amount\n",
    "    FROM investment AS i\n",
    "    LEFT JOIN company AS c ON i.company_id=c.id\n",
    "    LEFT JOIN fund AS f ON i.fund_id=f.id\n",
    "    LEFT JOIN funding_round AS fr ON i.funding_round_id=fr.id\n",
    "    WHERE c.milestones>6\n",
    "    AND EXTRACT(year FROM fr.funded_at) IN (2012, 2013);"
   ]
  },
  {
   "cell_type": "markdown",
   "id": "8ccb916d",
   "metadata": {},
   "source": [
    "20. Выгрузите таблицу, в которой будут такие поля:\n",
    "название компании-покупателя;\n",
    "сумма сделки;\n",
    "название компании, которую купили;\n",
    "сумма инвестиций, вложенных в купленную компанию;\n",
    "доля, которая отображает, во сколько раз сумма покупки превысила сумму вложенных в компанию инвестиций, округлённая до ближайшего целого числа.\n",
    "Не учитывайте те сделки, в которых сумма покупки равна нулю. Если сумма инвестиций в компанию равна нулю, исключите такую компанию из таблицы. \n",
    "Отсортируйте таблицу по сумме сделки от большей к меньшей, а затем по названию купленной компании в лексикографическом порядке. Ограничьте таблицу первыми десятью записями."
   ]
  },
  {
   "cell_type": "markdown",
   "id": "794bbcbd",
   "metadata": {},
   "source": [
    "    WITH\n",
    "    t1 AS (SELECT a.acquiring_company_id,\n",
    "               a.price_amount,\n",
    "               c.name,\n",
    "               c.funding_total,\n",
    "               ROUND(a.price_amount/c.funding_total)\n",
    "        FROM acquisition AS a\n",
    "        LEFT JOIN company AS c ON a.acquired_company_id=c.id\n",
    "        WHERE a.price_amount>0\n",
    "        AND c.funding_total>0\n",
    "        ORDER BY a.price_amount DESC)\n",
    "    \n",
    "    SELECT c.name,\n",
    "           t1.price_amount,\n",
    "           t1.name,\n",
    "           t1.funding_total,\n",
    "           t1.ROUND\n",
    "    FROM t1 LEFT JOIN company AS c ON t1.acquiring_company_id=c.id\n",
    "    ORDER BY t1.price_amount DESC, t1.name\n",
    "    LIMIT 10;"
   ]
  },
  {
   "cell_type": "markdown",
   "id": "3d37fcad",
   "metadata": {},
   "source": [
    "21. Выгрузите таблицу, в которую войдут названия компаний из категории social, получившие финансирование с 2010 по 2013 год включительно. Проверьте, что сумма инвестиций не равна нулю. Выведите также номер месяца, в котором проходил раунд финансирования."
   ]
  },
  {
   "cell_type": "markdown",
   "id": "84c86883",
   "metadata": {},
   "source": [
    "    SELECT c.name,\n",
    "           EXTRACT(month FROM fr.funded_at)\n",
    "    FROM company AS c\n",
    "    LEFT JOIN funding_round AS fr ON c.id=fr.company_id\n",
    "    WHERE c.category_code='social'\n",
    "    AND EXTRACT(year FROM fr.funded_at) IN (2010, 2011, 2012, 2013)\n",
    "    AND fr.raised_amount>0;"
   ]
  },
  {
   "cell_type": "markdown",
   "id": "70aaa1b0",
   "metadata": {},
   "source": [
    "22. Отберите данные по месяцам с 2010 по 2013 год, когда проходили инвестиционные раунды. Сгруппируйте данные по номеру месяца и получите таблицу, в которой будут поля:\n",
    "номер месяца, в котором проходили раунды;\n",
    "количество уникальных названий фондов из США, которые инвестировали в этом месяце;\n",
    "количество компаний, купленных за этот месяц;\n",
    "общая сумма сделок по покупкам в этом месяце."
   ]
  },
  {
   "cell_type": "markdown",
   "id": "435428c7",
   "metadata": {},
   "source": [
    "    WITH\n",
    "    t_fr AS (SELECT EXTRACT(month FROM fr.funded_at) AS m,\n",
    "                    COUNT(DISTINCT f.name) AS number_of_f\n",
    "             FROM investment AS i\n",
    "             LEFT JOIN funding_round AS fr ON i.funding_round_id=fr.id\n",
    "             LEFT JOIN fund AS f ON i.fund_id=f.id\n",
    "             WHERE f.country_code='USA'\n",
    "             AND EXTRACT(year FROM fr.funded_at) BETWEEN 2010 AND 2013\n",
    "             GROUP BY m),\n",
    "    t_a AS (SELECT EXTRACT(month FROM a.acquired_at) AS m,\n",
    "                   COUNT(a.acquired_company_id) AS number_of_c,\n",
    "                   SUM(a.price_amount) AS total_m\n",
    "            FROM acquisition AS a\n",
    "            WHERE EXTRACT(year FROM a.acquired_at) BETWEEN 2010 AND 2013\n",
    "            GROUP BY m)\n",
    "    SELECT t_fr.m,\n",
    "           t_fr.number_of_f,\n",
    "           t_a.number_of_c,\n",
    "           t_a.total_m\n",
    "    FROM t_fr INNER JOIN t_a ON t_fr.m=t_a.m;"
   ]
  },
  {
   "cell_type": "markdown",
   "id": "29935e01",
   "metadata": {},
   "source": [
    "23. Составьте сводную таблицу и выведите среднюю сумму инвестиций для стран, в которых есть стартапы, зарегистрированные в 2011, 2012 и 2013 годах. Данные за каждый год должны быть в отдельном поле. Отсортируйте таблицу по среднему значению инвестиций за 2011 год от большего к меньшему."
   ]
  },
  {
   "cell_type": "markdown",
   "id": "08a137bb",
   "metadata": {},
   "source": [
    "    WITH\n",
    "    t1 AS (SELECT AVG(funding_total) AS inv_2011,\n",
    "               country_code\n",
    "        FROM company\n",
    "        WHERE EXTRACT(year FROM founded_at)=2011\n",
    "        GROUP BY country_code),\n",
    "    t2 AS (SELECT AVG(funding_total) AS inv_2012,\n",
    "               country_code\n",
    "        FROM company\n",
    "        WHERE EXTRACT(year FROM founded_at)=2012\n",
    "        GROUP BY country_code),\n",
    "    t3 AS (SELECT AVG(funding_total) AS inv_2013,\n",
    "               country_code\n",
    "        FROM company\n",
    "        WHERE EXTRACT(year FROM founded_at)=2013\n",
    "        GROUP BY country_code)\n",
    "    \n",
    "    SELECT t1.country_code,\n",
    "           t1.inv_2011,\n",
    "           t2.inv_2012,\n",
    "           t3.inv_2013\n",
    "    FROM t1\n",
    "    INNER JOIN t2 ON t1.country_code=t2.country_code\n",
    "    INNER JOIN t3 ON t1.country_code=t3.country_code\n",
    "    ORDER BY t1.inv_2011 DESC;"
   ]
  }
 ],
 "metadata": {
  "kernelspec": {
   "display_name": "Python 3 (ipykernel)",
   "language": "python",
   "name": "python3"
  },
  "language_info": {
   "codemirror_mode": {
    "name": "ipython",
    "version": 3
   },
   "file_extension": ".py",
   "mimetype": "text/x-python",
   "name": "python",
   "nbconvert_exporter": "python",
   "pygments_lexer": "ipython3",
   "version": "3.9.13"
  }
 },
 "nbformat": 4,
 "nbformat_minor": 5
}
