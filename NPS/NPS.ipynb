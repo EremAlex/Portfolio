{
 "cells": [
  {
   "cell_type": "markdown",
   "id": "9989d375",
   "metadata": {},
   "source": [
    "# Исследование уровня потребительской лояльности"
   ]
  },
  {
   "cell_type": "markdown",
   "id": "447fbccc",
   "metadata": {},
   "source": [
    "- Цель исследования - определение текущего уровня потребительской лояльности, или NPS (от англ. Net Promoter Score), среди клиентов из России. Для наглядности результата будет построен дашборд.\n",
    "- Методика расчёта: клиентам задавали вопрос: «Оцените по шкале от 1 до 10 вероятность того, что вы порекомендуете компанию друзьям и знакомым». Оценки делят на 3 группы: 9-10 баллов — «сторонники» (англ. promoters), 7-8 баллов — «нейтралы» (англ. passives), 0-6 баллов — «критики» (англ. detractors). Итоговое значение NPS рассчитывается по формуле: % «сторонников» - % «критиков».\n",
    "- Заказчик — большая телекоммуникационная компания, которая оказывает услуги на территории всего СНГ.\n",
    "- Данные предоставлены заказчиком (по результатам опроса данные были внесены в БД SQLite)."
   ]
  },
  {
   "cell_type": "code",
   "execution_count": 2,
   "id": "555112d6",
   "metadata": {
    "tags": [
     "aa81075c-062f-4de0-b5fe-14c73dc7468e"
    ]
   },
   "outputs": [],
   "source": [
    "import pandas as pd\n",
    "import numpy as np\n",
    "\n",
    "from sqlalchemy import create_engine"
   ]
  },
  {
   "cell_type": "code",
   "execution_count": 3,
   "id": "26437ca3",
   "metadata": {},
   "outputs": [],
   "source": [
    "path_to_db = '/datasets/telecomm_csi.db'\n",
    "engine = create_engine(f'sqlite:///{path_to_db}', echo = False)"
   ]
  },
  {
   "cell_type": "markdown",
   "id": "c87d3abd",
   "metadata": {},
   "source": [
    "Делаем SQL-запрос для выгрузки данных, затем загружаем CSV-файл на локальный компьютер."
   ]
  },
  {
   "cell_type": "code",
   "execution_count": 4,
   "id": "d28ec9fd",
   "metadata": {},
   "outputs": [],
   "source": [
    "query = \"\"\"\n",
    "SELECT u.user_id,\n",
    "       u.lt_day,\n",
    "       CASE\n",
    "           WHEN u.lt_day <= 365 THEN 'новый'\n",
    "           ELSE 'старый'\n",
    "       END AS is_new,\n",
    "       u.age,\n",
    "       CASE\n",
    "           WHEN u.gender_segment = 0 THEN 'мужчина'\n",
    "           WHEN u.gender_segment = 1 THEN 'женщина'\n",
    "           ELSE 'не определено'\n",
    "       END AS gender_segment,\n",
    "       u.os_name,\n",
    "       u.cpe_type_name,\n",
    "       l.country,\n",
    "       l.city,\n",
    "       ag.title AS age_segment,\n",
    "       ts.title AS trafic_segment,\n",
    "       ls.title AS lifetime_segment,\n",
    "       u.nps_score,\n",
    "       CASE\n",
    "           WHEN u.nps_score <= 6 THEN 'критик'\n",
    "           WHEN u.nps_score >= 9 THEN 'сторонник'\n",
    "           ELSE 'нейтрал'\n",
    "           END AS nps_group\n",
    "FROM user AS u\n",
    "INNER JOIN location AS l ON u.location_id=l.location_id\n",
    "INNER JOIN age_segment AS ag ON u.age_gr_id=ag.age_gr_id\n",
    "INNER JOIN traffic_segment AS ts ON u.tr_gr_id=ts.tr_gr_id\n",
    "INNER JOIN lifetime_segment AS ls ON u.lt_gr_id=ls.lt_gr_id;\n",
    "\"\"\""
   ]
  },
  {
   "cell_type": "code",
   "execution_count": 5,
   "id": "78b3ca35",
   "metadata": {},
   "outputs": [
    {
     "data": {
      "text/html": [
       "<div>\n",
       "<style scoped>\n",
       "    .dataframe tbody tr th:only-of-type {\n",
       "        vertical-align: middle;\n",
       "    }\n",
       "\n",
       "    .dataframe tbody tr th {\n",
       "        vertical-align: top;\n",
       "    }\n",
       "\n",
       "    .dataframe thead th {\n",
       "        text-align: right;\n",
       "    }\n",
       "</style>\n",
       "<table border=\"1\" class=\"dataframe\">\n",
       "  <thead>\n",
       "    <tr style=\"text-align: right;\">\n",
       "      <th></th>\n",
       "      <th>user_id</th>\n",
       "      <th>lt_day</th>\n",
       "      <th>is_new</th>\n",
       "      <th>age</th>\n",
       "      <th>gender_segment</th>\n",
       "      <th>os_name</th>\n",
       "      <th>cpe_type_name</th>\n",
       "      <th>country</th>\n",
       "      <th>city</th>\n",
       "      <th>age_segment</th>\n",
       "      <th>trafic_segment</th>\n",
       "      <th>lifetime_segment</th>\n",
       "      <th>nps_score</th>\n",
       "      <th>nps_group</th>\n",
       "    </tr>\n",
       "  </thead>\n",
       "  <tbody>\n",
       "    <tr>\n",
       "      <th>0</th>\n",
       "      <td>A001A2</td>\n",
       "      <td>2320</td>\n",
       "      <td>старый</td>\n",
       "      <td>45.0</td>\n",
       "      <td>женщина</td>\n",
       "      <td>ANDROID</td>\n",
       "      <td>SMARTPHONE</td>\n",
       "      <td>Россия</td>\n",
       "      <td>Уфа</td>\n",
       "      <td>05 45-54</td>\n",
       "      <td>04 1-5</td>\n",
       "      <td>08 36+</td>\n",
       "      <td>10</td>\n",
       "      <td>сторонник</td>\n",
       "    </tr>\n",
       "    <tr>\n",
       "      <th>1</th>\n",
       "      <td>A001WF</td>\n",
       "      <td>2344</td>\n",
       "      <td>старый</td>\n",
       "      <td>53.0</td>\n",
       "      <td>мужчина</td>\n",
       "      <td>ANDROID</td>\n",
       "      <td>SMARTPHONE</td>\n",
       "      <td>Россия</td>\n",
       "      <td>Киров</td>\n",
       "      <td>05 45-54</td>\n",
       "      <td>04 1-5</td>\n",
       "      <td>08 36+</td>\n",
       "      <td>10</td>\n",
       "      <td>сторонник</td>\n",
       "    </tr>\n",
       "    <tr>\n",
       "      <th>2</th>\n",
       "      <td>A003Q7</td>\n",
       "      <td>467</td>\n",
       "      <td>старый</td>\n",
       "      <td>57.0</td>\n",
       "      <td>мужчина</td>\n",
       "      <td>ANDROID</td>\n",
       "      <td>SMARTPHONE</td>\n",
       "      <td>Россия</td>\n",
       "      <td>Москва</td>\n",
       "      <td>06 55-64</td>\n",
       "      <td>08 20-25</td>\n",
       "      <td>06 13-24</td>\n",
       "      <td>10</td>\n",
       "      <td>сторонник</td>\n",
       "    </tr>\n",
       "  </tbody>\n",
       "</table>\n",
       "</div>"
      ],
      "text/plain": [
       "  user_id  lt_day  is_new   age gender_segment  os_name cpe_type_name country  \\\n",
       "0  A001A2    2320  старый  45.0        женщина  ANDROID    SMARTPHONE  Россия   \n",
       "1  A001WF    2344  старый  53.0        мужчина  ANDROID    SMARTPHONE  Россия   \n",
       "2  A003Q7     467  старый  57.0        мужчина  ANDROID    SMARTPHONE  Россия   \n",
       "\n",
       "     city age_segment trafic_segment lifetime_segment  nps_score  nps_group  \n",
       "0     Уфа    05 45-54         04 1-5           08 36+         10  сторонник  \n",
       "1   Киров    05 45-54         04 1-5           08 36+         10  сторонник  \n",
       "2  Москва    06 55-64       08 20-25         06 13-24         10  сторонник  "
      ]
     },
     "execution_count": 5,
     "metadata": {},
     "output_type": "execute_result"
    }
   ],
   "source": [
    "df = pd.read_sql(query, engine)\n",
    "df.head(3)"
   ]
  },
  {
   "cell_type": "code",
   "execution_count": 6,
   "id": "8e94f638",
   "metadata": {},
   "outputs": [],
   "source": [
    "df.to_csv('telecomm_csi_tableau.csv', index=False)"
   ]
  },
  {
   "cell_type": "markdown",
   "id": "8beaf0da",
   "metadata": {},
   "source": [
    "### Ссылка на дашборд на сайте Tableau Public:"
   ]
  },
  {
   "cell_type": "markdown",
   "id": "0b56ff89",
   "metadata": {},
   "source": [
    "https://public.tableau.com/views/project_nps/Dashboard1?:language=en-US&:display_count=n&:origin=viz_share_link"
   ]
  },
  {
   "cell_type": "markdown",
   "id": "30df5c66",
   "metadata": {},
   "source": [
    "### Ссылка на файл с презентацией:"
   ]
  },
  {
   "cell_type": "markdown",
   "id": "2082ed65",
   "metadata": {},
   "source": [
    "https://docs.google.com/presentation/d/1a_Or8F27ValpD7iFgJQkGiRPNt9Hq6lRZBIrbUfCNkU/edit?usp=sharing"
   ]
  }
 ],
 "metadata": {
  "ExecuteTimeLog": [
   {
    "duration": 752,
    "start_time": "2021-10-03T17:40:52.731Z"
   },
   {
    "duration": 20,
    "start_time": "2021-10-03T17:40:53.486Z"
   },
   {
    "duration": 4,
    "start_time": "2021-10-03T17:41:04.638Z"
   },
   {
    "duration": 461,
    "start_time": "2021-10-03T17:41:04.912Z"
   },
   {
    "duration": 284,
    "start_time": "2021-10-03T17:41:05.376Z"
   },
   {
    "duration": 574,
    "start_time": "2021-10-06T07:55:05.029Z"
   },
   {
    "duration": 6,
    "start_time": "2021-10-06T07:55:05.605Z"
   },
   {
    "duration": 3,
    "start_time": "2021-10-06T07:55:14.685Z"
   },
   {
    "duration": 406,
    "start_time": "2021-10-06T07:55:15.522Z"
   },
   {
    "duration": 67,
    "start_time": "2021-10-06T07:55:15.929Z"
   },
   {
    "duration": 840,
    "start_time": "2021-10-07T07:54:04.647Z"
   },
   {
    "duration": 10,
    "start_time": "2021-10-07T07:54:05.490Z"
   },
   {
    "duration": 4,
    "start_time": "2021-10-07T07:54:05.544Z"
   },
   {
    "duration": 391,
    "start_time": "2021-10-07T07:54:06.237Z"
   },
   {
    "duration": 293,
    "start_time": "2021-10-07T07:54:06.654Z"
   },
   {
    "duration": 561,
    "start_time": "2022-12-09T13:45:49.612Z"
   },
   {
    "duration": 26,
    "start_time": "2022-12-09T13:45:50.176Z"
   },
   {
    "duration": 3,
    "start_time": "2022-12-09T13:45:50.204Z"
   },
   {
    "duration": 5356,
    "start_time": "2022-12-09T13:45:50.208Z"
   },
   {
    "duration": 4579,
    "start_time": "2022-12-09T13:45:55.566Z"
   },
   {
    "duration": 1427,
    "start_time": "2022-12-09T17:59:49.483Z"
   },
   {
    "duration": 476,
    "start_time": "2022-12-09T17:59:58.164Z"
   },
   {
    "duration": 19,
    "start_time": "2022-12-09T17:59:58.642Z"
   },
   {
    "duration": 4,
    "start_time": "2022-12-09T17:59:58.663Z"
   },
   {
    "duration": 5389,
    "start_time": "2022-12-09T17:59:58.669Z"
   },
   {
    "duration": 4296,
    "start_time": "2022-12-09T18:00:04.060Z"
   },
   {
    "duration": 3649,
    "start_time": "2022-12-09T18:00:08.358Z"
   },
   {
    "duration": 42,
    "start_time": "2022-12-10T11:48:02.548Z"
   },
   {
    "duration": 510,
    "start_time": "2022-12-10T15:07:45.753Z"
   },
   {
    "duration": 9,
    "start_time": "2022-12-10T15:07:46.265Z"
   },
   {
    "duration": 3,
    "start_time": "2022-12-10T15:07:46.276Z"
   },
   {
    "duration": 6412,
    "start_time": "2022-12-10T15:07:46.280Z"
   },
   {
    "duration": 5825,
    "start_time": "2022-12-10T15:07:52.693Z"
   },
   {
    "duration": 4480,
    "start_time": "2022-12-10T15:07:58.520Z"
   }
  ],
  "kernelspec": {
   "display_name": "Python 3 (ipykernel)",
   "language": "python",
   "name": "python3"
  },
  "language_info": {
   "codemirror_mode": {
    "name": "ipython",
    "version": 3
   },
   "file_extension": ".py",
   "mimetype": "text/x-python",
   "name": "python",
   "nbconvert_exporter": "python",
   "pygments_lexer": "ipython3",
   "version": "3.9.13"
  },
  "toc": {
   "base_numbering": 1,
   "nav_menu": {},
   "number_sections": true,
   "sideBar": true,
   "skip_h1_title": true,
   "title_cell": "Table of Contents",
   "title_sidebar": "Contents",
   "toc_cell": false,
   "toc_position": {},
   "toc_section_display": true,
   "toc_window_display": false
  }
 },
 "nbformat": 4,
 "nbformat_minor": 5
}
