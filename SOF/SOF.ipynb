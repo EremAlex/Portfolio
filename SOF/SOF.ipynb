{
 "cells": [
  {
   "cell_type": "markdown",
   "metadata": {},
   "source": [
    "# Исследование данных о пользователях сервиса \"...\""
   ]
  },
  {
   "cell_type": "markdown",
   "metadata": {},
   "source": [
    "## Запросы к базе данных."
   ]
  },
  {
   "cell_type": "markdown",
   "metadata": {},
   "source": [
    "Найдите количество вопросов, которые набрали больше 300 очков или как минимум 100 раз были добавлены в «Закладки»."
   ]
  },
  {
   "cell_type": "markdown",
   "metadata": {},
   "source": [
    "    SELECT COUNT(p.id)\n",
    "    FROM stackoverflow.posts p \n",
    "    JOIN stackoverflow.post_types pt ON p.post_type_id=pt.id\n",
    "    WHERE pt.type='Question'\n",
    "    AND (\n",
    "        p.score > 300\n",
    "        OR p.favorites_count >= 100);"
   ]
  },
  {
   "cell_type": "markdown",
   "metadata": {},
   "source": [
    "Сколько в среднем в день задавали вопросов с 1 по 18 ноября 2008 включительно? Результат округлите до целого числа."
   ]
  },
  {
   "cell_type": "markdown",
   "metadata": {},
   "source": [
    "    WITH t1 AS (SELECT ROUND(COUNT(p.id), 0) c1,\n",
    "        DATE_TRUNC('day', p.creation_date)::date d1\n",
    "    FROM stackoverflow.posts p\n",
    "    JOIN stackoverflow.post_types pt ON p.post_type_id=pt.id\n",
    "    WHERE pt.type='Question'\n",
    "    AND DATE_TRUNC('day', p.creation_date)::date BETWEEN '2008-11-01' AND '2008-11-18'\n",
    "    GROUP BY d1)\n",
    "\n",
    "    SELECT ROUND(AVG(c1))\n",
    "    FROM t1"
   ]
  },
  {
   "cell_type": "markdown",
   "metadata": {},
   "source": [
    "Сколько пользователей получили значки сразу в день регистрации? Выведите количество уникальных пользователей."
   ]
  },
  {
   "cell_type": "markdown",
   "metadata": {},
   "source": [
    "    SELECT COUNT(DISTINCT b.user_id)\n",
    "    FROM stackoverflow.badges b\n",
    "    JOIN stackoverflow.users u ON u.id=b.user_id\n",
    "    WHERE DATE_TRUNC('day', b.creation_date)=DATE_TRUNC('day', u.creation_date)"
   ]
  },
  {
   "cell_type": "markdown",
   "metadata": {},
   "source": [
    "Сколько уникальных постов пользователя с именем Joel Coehoorn получили хотя бы один голос?"
   ]
  },
  {
   "cell_type": "markdown",
   "metadata": {},
   "source": [
    "    SELECT COUNT(DISTINCT p.id)\n",
    "    FROM stackoverflow.posts p\n",
    "    JOIN stackoverflow.users u ON u.id=p.user_id\n",
    "    JOIN stackoverflow.votes v ON v.post_id=p.id\n",
    "    WHERE u.display_name='Joel Coehoorn'\n",
    "    AND v.id IS NOT NULL;"
   ]
  },
  {
   "cell_type": "markdown",
   "metadata": {},
   "source": [
    "Выгрузите все поля таблицы vote_types. Добавьте к таблице поле rank, в которое войдут номера записей в обратном порядке. Таблица должна быть отсортирована по полю id."
   ]
  },
  {
   "cell_type": "markdown",
   "metadata": {},
   "source": [
    "    SELECT *, RANK() OVER(ORDER BY id DESC)\n",
    "    FROM stackoverflow.vote_types\n",
    "    ORDER BY id"
   ]
  },
  {
   "cell_type": "markdown",
   "metadata": {},
   "source": [
    "Отберите 10 пользователей, которые поставили больше всего голосов типа Close. Отобразите таблицу из двух полей: идентификатором пользователя и количеством голосов. Отсортируйте данные сначала по убыванию количества голосов, потом по убыванию значения идентификатора пользователя."
   ]
  },
  {
   "cell_type": "markdown",
   "metadata": {},
   "source": [
    "    SELECT v.user_id, COUNT(v.id)\n",
    "    FROM stackoverflow.votes v\n",
    "    JOIN stackoverflow.vote_types vt ON vt.id=v.vote_type_id\n",
    "    WHERE vt.name='Close'\n",
    "    GROUP BY v.user_id\n",
    "    ORDER BY COUNT(v.id) DESC, v.user_id DESC\n",
    "    LIMIT 10;"
   ]
  },
  {
   "cell_type": "markdown",
   "metadata": {},
   "source": [
    "Отберите 10 пользователей по количеству значков, полученных в период с 15 ноября по 15 декабря 2008 года включительно.\n",
    "Отобразите несколько полей:\n",
    "идентификатор пользователя;\n",
    "число значков;\n",
    "место в рейтинге — чем больше значков, тем выше рейтинг.\n",
    "Пользователям, которые набрали одинаковое количество значков, присвойте одно и то же место в рейтинге.\n",
    "Отсортируйте записи по количеству значков по убыванию, а затем по возрастанию значения идентификатора пользователя."
   ]
  },
  {
   "cell_type": "markdown",
   "metadata": {},
   "source": [
    "    SELECT b.user_id, COUNT(b.id), DENSE_RANK() OVER(ORDER BY COUNT(b.id) DESC)\n",
    "    FROM stackoverflow.badges b\n",
    "    WHERE DATE_TRUNC('day', b.creation_date)::date BETWEEN '2008-11-15' AND '2008-12-15'\n",
    "    GROUP BY b.user_id\n",
    "    ORDER BY COUNT(b.id) DESC, b.user_id\n",
    "    LIMIT 10;"
   ]
  },
  {
   "cell_type": "markdown",
   "metadata": {},
   "source": [
    "Сколько в среднем очков получает пост каждого пользователя?\n",
    "Сформируйте таблицу из следующих полей:\n",
    "заголовок поста;\n",
    "идентификатор пользователя;\n",
    "число очков поста;\n",
    "среднее число очков пользователя за пост, округлённое до целого числа.\n",
    "Не учитывайте посты без заголовка, а также те, что набрали ноль очков."
   ]
  },
  {
   "cell_type": "markdown",
   "metadata": {},
   "source": [
    "    SELECT p.title, p.user_id, p.score, ROUND(AVG(p.score) OVER(PARTITION BY p.user_id), 0)\n",
    "    FROM stackoverflow.posts p\n",
    "    WHERE p.score != 0\n",
    "    AND p.title != '';"
   ]
  },
  {
   "cell_type": "markdown",
   "metadata": {},
   "source": [
    "Отобразите заголовки постов, которые были написаны пользователями, получившими более 1000 значков. Посты без заголовков не должны попасть в список."
   ]
  },
  {
   "cell_type": "markdown",
   "metadata": {},
   "source": [
    "    WITH t1 AS (SELECT b.user_id, COUNT(b.id)\n",
    "    FROM stackoverflow.badges b\n",
    "    GROUP BY b.user_id\n",
    "    HAVING COUNT(b.id) > 1000)\n",
    "\n",
    "    SELECT p.title\n",
    "    FROM stackoverflow.posts p\n",
    "    JOIN t1 ON t1.user_id=p.user_id\n",
    "    WHERE p.title IS NOT NULL"
   ]
  },
  {
   "cell_type": "markdown",
   "metadata": {},
   "source": [
    "Напишите запрос, который выгрузит данные о пользователях из Канады (англ. Canada). Разделите пользователей на три группы в зависимости от количества просмотров их профилей:\n",
    "пользователям с числом просмотров больше либо равным 350 присвойте группу 1;\n",
    "пользователям с числом просмотров меньше 350, но больше либо равно 100 — группу 2;\n",
    "пользователям с числом просмотров меньше 100 — группу 3.\n",
    "Отобразите в итоговой таблице идентификатор пользователя, количество просмотров профиля и группу. Пользователи с нулевым количеством просмотров не должны войти в итоговую таблицу."
   ]
  },
  {
   "cell_type": "markdown",
   "metadata": {},
   "source": [
    "    SELECT u.id, u.views,\n",
    "        CASE\n",
    "            WHEN u.views < 100 THEN 3\n",
    "            WHEN u.views < 350 THEN 2\n",
    "            ELSE 1\n",
    "        END\n",
    "    FROM stackoverflow.users u\n",
    "    WHERE u.location LIKE ('%Canada%')\n",
    "    AND u.views != 0;"
   ]
  },
  {
   "cell_type": "markdown",
   "metadata": {},
   "source": [
    "Дополните предыдущий запрос. Отобразите лидеров каждой группы — пользователей, которые набрали максимальное число просмотров в своей группе. Выведите поля с идентификатором пользователя, группой и количеством просмотров. Отсортируйте таблицу по убыванию просмотров, а затем по возрастанию значения идентификатора."
   ]
  },
  {
   "cell_type": "markdown",
   "metadata": {},
   "source": [
    "    WITH t1 AS (SELECT u.id, u.views,\n",
    "        CASE\n",
    "            WHEN u.views < 100 THEN 3\n",
    "            WHEN u.views < 350 THEN 2\n",
    "            ELSE 1\n",
    "        END AS category\n",
    "    FROM stackoverflow.users u\n",
    "    WHERE u.location LIKE ('%Canada%')\n",
    "    AND u.views != 0),\n",
    "\n",
    "    t2 AS (SELECT MAX(views) m\n",
    "                   FROM t1\n",
    "                   GROUP BY category)\n",
    "\n",
    "    SELECT id, views, category\n",
    "    FROM t1\n",
    "    JOIN t2 ON t1.views=t2.m\n",
    "    ORDER BY views DESC, category\n",
    "\n",
    "\n"
   ]
  },
  {
   "cell_type": "markdown",
   "metadata": {},
   "source": [
    "Посчитайте ежедневный прирост новых пользователей в ноябре 2008 года. Сформируйте таблицу с полями:\n",
    "номер дня;\n",
    "число пользователей, зарегистрированных в этот день;\n",
    "сумму пользователей с накоплением."
   ]
  },
  {
   "cell_type": "markdown",
   "metadata": {},
   "source": [
    "    WITH t1 AS (SELECT CAST(DATE_TRUNC('day', u.creation_date) AS date) d,\n",
    "        COUNT(u.id) c\n",
    "    FROM stackoverflow.users u\n",
    "    WHERE CAST(DATE_TRUNC('day', u.creation_date) AS date) BETWEEN '2008-11-01' AND '2008-11-30'\n",
    "    GROUP BY CAST(DATE_TRUNC('day', u.creation_date) AS date))\n",
    "\n",
    "    SELECT EXTRACT('day' FROM d), c, SUM(c) OVER(ORDER BY d)\n",
    "    FROM t1"
   ]
  },
  {
   "cell_type": "markdown",
   "metadata": {},
   "source": [
    "Для каждого пользователя, который написал хотя бы один пост, найдите интервал между регистрацией и временем создания первого поста. Отобразите:\n",
    "идентификатор пользователя;\n",
    "разницу во времени между регистрацией и первым постом."
   ]
  },
  {
   "cell_type": "markdown",
   "metadata": {},
   "source": [
    "    SELECT u.id, MIN(p.creation_date-u.creation_date)\n",
    "    FROM stackoverflow.posts p\n",
    "    JOIN stackoverflow.users u ON u.id=p.user_id\n",
    "    GROUP BY u.id"
   ]
  },
  {
   "cell_type": "markdown",
   "metadata": {},
   "source": [
    "## Запросы через Jupyter Notebook"
   ]
  },
  {
   "cell_type": "code",
   "execution_count": 1,
   "metadata": {
    "id": "nlZBlglMDWKe"
   },
   "outputs": [],
   "source": [
    "import pandas as pd\n",
    "import matplotlib.pyplot as plt\n",
    "import seaborn as sns\n",
    "from sqlalchemy import create_engine "
   ]
  },
  {
   "cell_type": "markdown",
   "metadata": {
    "id": "XnOE3n28DWKg"
   },
   "source": [
    "### Конфигурация для подключения к базе данных"
   ]
  },
  {
   "cell_type": "code",
   "execution_count": 1,
   "metadata": {
    "id": "6p-yGp7qDWKg"
   },
   "outputs": [],
   "source": [
    "db_config = {\n",
    "    'user': '...', # имя пользователя\n",
    "    'pwd': '...', # пароль\n",
    "    'host': '...',\n",
    "    'port': 0000, # порт подключения\n",
    "    'db': '...' # название базы данных\n",
    "}  \n",
    "\n",
    "connection_string = 'postgresql://{}:{}@{}:{}/{}'.format(\n",
    "    db_config['user'],\n",
    "    db_config['pwd'],\n",
    "    db_config['host'],\n",
    "    db_config['port'],\n",
    "    db_config['db'],\n",
    ")"
   ]
  },
  {
   "cell_type": "markdown",
   "metadata": {
    "id": "2Rg8ZpS0DWKh"
   },
   "source": [
    "Создание подключения"
   ]
  },
  {
   "cell_type": "code",
   "execution_count": 3,
   "metadata": {
    "id": "DamCUTR6DWKi"
   },
   "outputs": [],
   "source": [
    "engine = create_engine(connection_string) "
   ]
  },
  {
   "cell_type": "markdown",
   "metadata": {
    "id": "bel8XeSlDWKj"
   },
   "source": [
    "Пример запроса к базе данных\n",
    "\n",
    "`sample_df` является pandas-датафреймом."
   ]
  },
  {
   "cell_type": "code",
   "execution_count": 4,
   "metadata": {
    "id": "6Z_fw0yLDWKk"
   },
   "outputs": [],
   "source": [
    "query = '''\n",
    "SELECT *\n",
    "FROM stackoverflow.users\n",
    "LIMIT 10;\n",
    "'''\n",
    "\n",
    "sample_df = pd.read_sql_query(query, con=engine) "
   ]
  },
  {
   "cell_type": "code",
   "execution_count": 5,
   "metadata": {
    "id": "ZpuZ290oDWKk",
    "outputId": "22785a0a-e2bc-4559-ec3c-4879c4b377eb"
   },
   "outputs": [
    {
     "data": {
      "text/html": [
       "<div>\n",
       "<style scoped>\n",
       "    .dataframe tbody tr th:only-of-type {\n",
       "        vertical-align: middle;\n",
       "    }\n",
       "\n",
       "    .dataframe tbody tr th {\n",
       "        vertical-align: top;\n",
       "    }\n",
       "\n",
       "    .dataframe thead th {\n",
       "        text-align: right;\n",
       "    }\n",
       "</style>\n",
       "<table border=\"1\" class=\"dataframe\">\n",
       "  <thead>\n",
       "    <tr style=\"text-align: right;\">\n",
       "      <th></th>\n",
       "      <th>id</th>\n",
       "      <th>creation_date</th>\n",
       "      <th>display_name</th>\n",
       "      <th>last_access_date</th>\n",
       "      <th>location</th>\n",
       "      <th>reputation</th>\n",
       "      <th>views</th>\n",
       "    </tr>\n",
       "  </thead>\n",
       "  <tbody>\n",
       "    <tr>\n",
       "      <th>0</th>\n",
       "      <td>1</td>\n",
       "      <td>2008-07-31 14:22:31</td>\n",
       "      <td>Jeff Atwood</td>\n",
       "      <td>2018-08-29 02:34:23</td>\n",
       "      <td>El Cerrito, CA</td>\n",
       "      <td>44300</td>\n",
       "      <td>408587</td>\n",
       "    </tr>\n",
       "    <tr>\n",
       "      <th>1</th>\n",
       "      <td>2</td>\n",
       "      <td>2008-07-31 14:22:31</td>\n",
       "      <td>Geoff Dalgas</td>\n",
       "      <td>2018-08-23 17:31:56</td>\n",
       "      <td>Corvallis, OR</td>\n",
       "      <td>3491</td>\n",
       "      <td>23966</td>\n",
       "    </tr>\n",
       "    <tr>\n",
       "      <th>2</th>\n",
       "      <td>3</td>\n",
       "      <td>2008-07-31 14:22:31</td>\n",
       "      <td>Jarrod Dixon</td>\n",
       "      <td>2018-08-30 20:56:24</td>\n",
       "      <td>Raleigh, NC, United States</td>\n",
       "      <td>13418</td>\n",
       "      <td>24396</td>\n",
       "    </tr>\n",
       "    <tr>\n",
       "      <th>3</th>\n",
       "      <td>4</td>\n",
       "      <td>2008-07-31 14:22:31</td>\n",
       "      <td>Joel Spolsky</td>\n",
       "      <td>2018-08-14 22:18:15</td>\n",
       "      <td>New York, NY</td>\n",
       "      <td>28768</td>\n",
       "      <td>73755</td>\n",
       "    </tr>\n",
       "    <tr>\n",
       "      <th>4</th>\n",
       "      <td>5</td>\n",
       "      <td>2008-07-31 14:22:31</td>\n",
       "      <td>Jon Galloway</td>\n",
       "      <td>2018-08-29 16:48:36</td>\n",
       "      <td>San Diego, CA</td>\n",
       "      <td>39172</td>\n",
       "      <td>11700</td>\n",
       "    </tr>\n",
       "    <tr>\n",
       "      <th>5</th>\n",
       "      <td>8</td>\n",
       "      <td>2008-07-31 21:33:24</td>\n",
       "      <td>Eggs McLaren</td>\n",
       "      <td>2018-04-09 02:04:56</td>\n",
       "      <td>None</td>\n",
       "      <td>942</td>\n",
       "      <td>6372</td>\n",
       "    </tr>\n",
       "    <tr>\n",
       "      <th>6</th>\n",
       "      <td>9</td>\n",
       "      <td>2008-07-31 21:35:27</td>\n",
       "      <td>Kevin Dente</td>\n",
       "      <td>2018-08-30 18:18:03</td>\n",
       "      <td>Oakland, CA</td>\n",
       "      <td>14337</td>\n",
       "      <td>4949</td>\n",
       "    </tr>\n",
       "    <tr>\n",
       "      <th>7</th>\n",
       "      <td>11</td>\n",
       "      <td>2008-08-01 00:59:11</td>\n",
       "      <td>Anonymous User</td>\n",
       "      <td>2008-08-01 00:59:11</td>\n",
       "      <td>None</td>\n",
       "      <td>1890</td>\n",
       "      <td>2123</td>\n",
       "    </tr>\n",
       "    <tr>\n",
       "      <th>8</th>\n",
       "      <td>13</td>\n",
       "      <td>2008-08-01 04:18:05</td>\n",
       "      <td>Chris Jester-Young</td>\n",
       "      <td>2018-08-30 02:47:23</td>\n",
       "      <td>Raleigh, NC, United States</td>\n",
       "      <td>177138</td>\n",
       "      <td>35414</td>\n",
       "    </tr>\n",
       "    <tr>\n",
       "      <th>9</th>\n",
       "      <td>17</td>\n",
       "      <td>2008-08-01 12:02:22</td>\n",
       "      <td>Nick Berardi</td>\n",
       "      <td>2018-01-22 01:35:38</td>\n",
       "      <td>Issaquah, WA</td>\n",
       "      <td>44443</td>\n",
       "      <td>4786</td>\n",
       "    </tr>\n",
       "  </tbody>\n",
       "</table>\n",
       "</div>"
      ],
      "text/plain": [
       "   id       creation_date        display_name    last_access_date  \\\n",
       "0   1 2008-07-31 14:22:31         Jeff Atwood 2018-08-29 02:34:23   \n",
       "1   2 2008-07-31 14:22:31        Geoff Dalgas 2018-08-23 17:31:56   \n",
       "2   3 2008-07-31 14:22:31        Jarrod Dixon 2018-08-30 20:56:24   \n",
       "3   4 2008-07-31 14:22:31        Joel Spolsky 2018-08-14 22:18:15   \n",
       "4   5 2008-07-31 14:22:31        Jon Galloway 2018-08-29 16:48:36   \n",
       "5   8 2008-07-31 21:33:24        Eggs McLaren 2018-04-09 02:04:56   \n",
       "6   9 2008-07-31 21:35:27         Kevin Dente 2018-08-30 18:18:03   \n",
       "7  11 2008-08-01 00:59:11      Anonymous User 2008-08-01 00:59:11   \n",
       "8  13 2008-08-01 04:18:05  Chris Jester-Young 2018-08-30 02:47:23   \n",
       "9  17 2008-08-01 12:02:22        Nick Berardi 2018-01-22 01:35:38   \n",
       "\n",
       "                     location  reputation   views  \n",
       "0              El Cerrito, CA       44300  408587  \n",
       "1               Corvallis, OR        3491   23966  \n",
       "2  Raleigh, NC, United States       13418   24396  \n",
       "3                New York, NY       28768   73755  \n",
       "4               San Diego, CA       39172   11700  \n",
       "5                        None         942    6372  \n",
       "6                 Oakland, CA       14337    4949  \n",
       "7                        None        1890    2123  \n",
       "8  Raleigh, NC, United States      177138   35414  \n",
       "9                Issaquah, WA       44443    4786  "
      ]
     },
     "execution_count": 5,
     "metadata": {},
     "output_type": "execute_result"
    }
   ],
   "source": [
    "sample_df"
   ]
  },
  {
   "cell_type": "markdown",
   "metadata": {
    "id": "gnBMXkDBDWKm"
   },
   "source": [
    "# Задание 1"
   ]
  },
  {
   "cell_type": "markdown",
   "metadata": {
    "id": "vHsfOrrNDWKn"
   },
   "source": [
    "Выведите общую сумму просмотров постов за каждый месяц 2008 года. Если данных за какой-либо месяц в базе нет, такой месяц можно пропустить. Результат отсортируйте по убыванию общего количества просмотров."
   ]
  },
  {
   "cell_type": "code",
   "execution_count": 6,
   "metadata": {
    "id": "eWvykcXTDWKo"
   },
   "outputs": [
    {
     "data": {
      "text/html": [
       "<div>\n",
       "<style scoped>\n",
       "    .dataframe tbody tr th:only-of-type {\n",
       "        vertical-align: middle;\n",
       "    }\n",
       "\n",
       "    .dataframe tbody tr th {\n",
       "        vertical-align: top;\n",
       "    }\n",
       "\n",
       "    .dataframe thead th {\n",
       "        text-align: right;\n",
       "    }\n",
       "</style>\n",
       "<table border=\"1\" class=\"dataframe\">\n",
       "  <thead>\n",
       "    <tr style=\"text-align: right;\">\n",
       "      <th></th>\n",
       "      <th>month_date</th>\n",
       "      <th>total_views</th>\n",
       "    </tr>\n",
       "  </thead>\n",
       "  <tbody>\n",
       "    <tr>\n",
       "      <th>0</th>\n",
       "      <td>2008-09-01</td>\n",
       "      <td>452928568</td>\n",
       "    </tr>\n",
       "    <tr>\n",
       "      <th>1</th>\n",
       "      <td>2008-10-01</td>\n",
       "      <td>365400138</td>\n",
       "    </tr>\n",
       "    <tr>\n",
       "      <th>2</th>\n",
       "      <td>2008-11-01</td>\n",
       "      <td>221759651</td>\n",
       "    </tr>\n",
       "    <tr>\n",
       "      <th>3</th>\n",
       "      <td>2008-12-01</td>\n",
       "      <td>197792841</td>\n",
       "    </tr>\n",
       "    <tr>\n",
       "      <th>4</th>\n",
       "      <td>2008-08-01</td>\n",
       "      <td>131367083</td>\n",
       "    </tr>\n",
       "    <tr>\n",
       "      <th>5</th>\n",
       "      <td>2008-07-01</td>\n",
       "      <td>669895</td>\n",
       "    </tr>\n",
       "  </tbody>\n",
       "</table>\n",
       "</div>"
      ],
      "text/plain": [
       "   month_date  total_views\n",
       "0  2008-09-01    452928568\n",
       "1  2008-10-01    365400138\n",
       "2  2008-11-01    221759651\n",
       "3  2008-12-01    197792841\n",
       "4  2008-08-01    131367083\n",
       "5  2008-07-01       669895"
      ]
     },
     "execution_count": 6,
     "metadata": {},
     "output_type": "execute_result"
    }
   ],
   "source": [
    "# напишите запрос\n",
    "query1 = '''\n",
    "SELECT DATE_TRUNC('month',creation_date)::date month_date, SUM(views_count) total_views\n",
    "FROM stackoverflow.posts\n",
    "GROUP BY DATE_TRUNC('month',creation_date)::date\n",
    "ORDER BY SUM(views_count) DESC\n",
    "'''\n",
    "\n",
    "# выполните запрос\n",
    "df1 = pd.read_sql_query(query1, con=engine)\n",
    "df1"
   ]
  },
  {
   "cell_type": "markdown",
   "metadata": {
    "id": "I_ZvhOxkDWKp"
   },
   "source": [
    "Проанализируйте итоговую таблицу. Отличаются ли данные за разные месяцы? С чем могут быть связаны отличия?"
   ]
  },
  {
   "cell_type": "markdown",
   "metadata": {
    "id": "luxSj17oDWKq"
   },
   "source": [
    "Меньше всего просмотров в летние месяцы (июль, август). Пик просмотров приходится на сентябрь, далее количество просмотров постепенно снижается. Эту ситуацию можно объяснить изменениями деловой активности: в сентябре многие люди выходят из отпусков, студенты и школьники возвращаются к занятиям после каникул. Постепенно. когда пользователи вливаются в учебный и рабочий процесс, активность на форуме становится меньше."
   ]
  },
  {
   "cell_type": "markdown",
   "metadata": {
    "id": "FziIXkn5DWKr"
   },
   "source": [
    "# Задание 2"
   ]
  },
  {
   "cell_type": "markdown",
   "metadata": {
    "id": "fTGESZvYDWKr"
   },
   "source": [
    "Выведите имена самых активных пользователей, которые в первый месяц после регистрации (включая день регистрации) дали больше 100 ответов. Вопросы, которые задавали пользователи, не учитывайте. Для каждого имени пользователя выведите количество уникальных значений `user_id`. Отсортируйте результат по полю с именами в лексикографическом порядке."
   ]
  },
  {
   "cell_type": "code",
   "execution_count": 7,
   "metadata": {
    "id": "fIO-y-YjDWKt"
   },
   "outputs": [
    {
     "data": {
      "text/html": [
       "<div>\n",
       "<style scoped>\n",
       "    .dataframe tbody tr th:only-of-type {\n",
       "        vertical-align: middle;\n",
       "    }\n",
       "\n",
       "    .dataframe tbody tr th {\n",
       "        vertical-align: top;\n",
       "    }\n",
       "\n",
       "    .dataframe thead th {\n",
       "        text-align: right;\n",
       "    }\n",
       "</style>\n",
       "<table border=\"1\" class=\"dataframe\">\n",
       "  <thead>\n",
       "    <tr style=\"text-align: right;\">\n",
       "      <th></th>\n",
       "      <th>display_name</th>\n",
       "      <th>count</th>\n",
       "    </tr>\n",
       "  </thead>\n",
       "  <tbody>\n",
       "    <tr>\n",
       "      <th>0</th>\n",
       "      <td>1800 INFORMATION</td>\n",
       "      <td>1</td>\n",
       "    </tr>\n",
       "    <tr>\n",
       "      <th>1</th>\n",
       "      <td>Adam Bellaire</td>\n",
       "      <td>1</td>\n",
       "    </tr>\n",
       "    <tr>\n",
       "      <th>2</th>\n",
       "      <td>Adam Davis</td>\n",
       "      <td>1</td>\n",
       "    </tr>\n",
       "    <tr>\n",
       "      <th>3</th>\n",
       "      <td>Adam Liss</td>\n",
       "      <td>1</td>\n",
       "    </tr>\n",
       "    <tr>\n",
       "      <th>4</th>\n",
       "      <td>Alan</td>\n",
       "      <td>8</td>\n",
       "    </tr>\n",
       "    <tr>\n",
       "      <th>...</th>\n",
       "      <td>...</td>\n",
       "      <td>...</td>\n",
       "    </tr>\n",
       "    <tr>\n",
       "      <th>74</th>\n",
       "      <td>lomaxx</td>\n",
       "      <td>1</td>\n",
       "    </tr>\n",
       "    <tr>\n",
       "      <th>75</th>\n",
       "      <td>mattlant</td>\n",
       "      <td>1</td>\n",
       "    </tr>\n",
       "    <tr>\n",
       "      <th>76</th>\n",
       "      <td>paxdiablo</td>\n",
       "      <td>1</td>\n",
       "    </tr>\n",
       "    <tr>\n",
       "      <th>77</th>\n",
       "      <td>tvanfosson</td>\n",
       "      <td>1</td>\n",
       "    </tr>\n",
       "    <tr>\n",
       "      <th>78</th>\n",
       "      <td>tzot</td>\n",
       "      <td>1</td>\n",
       "    </tr>\n",
       "  </tbody>\n",
       "</table>\n",
       "<p>79 rows × 2 columns</p>\n",
       "</div>"
      ],
      "text/plain": [
       "        display_name  count\n",
       "0   1800 INFORMATION      1\n",
       "1      Adam Bellaire      1\n",
       "2         Adam Davis      1\n",
       "3          Adam Liss      1\n",
       "4               Alan      8\n",
       "..               ...    ...\n",
       "74            lomaxx      1\n",
       "75          mattlant      1\n",
       "76         paxdiablo      1\n",
       "77        tvanfosson      1\n",
       "78              tzot      1\n",
       "\n",
       "[79 rows x 2 columns]"
      ]
     },
     "execution_count": 7,
     "metadata": {},
     "output_type": "execute_result"
    }
   ],
   "source": [
    "# напишите запрос\n",
    "query2 = '''\n",
    "SELECT u.display_name, COUNT(DISTINCT u.id)\n",
    "FROM stackoverflow.users u\n",
    "JOIN stackoverflow.posts p ON p.user_id=u.id\n",
    "WHERE DATE_TRUNC('day', u.creation_date)::date + INTERVAL'1 months' >= DATE_TRUNC('day', p.creation_date)::date\n",
    "AND p.post_type_id IN (SELECT id\n",
    "                FROM stackoverflow.post_types\n",
    "               WHERE type='Answer')\n",
    "GROUP BY u.display_name\n",
    "HAVING COUNT(p.id) > 100\n",
    "ORDER BY u.display_name\n",
    "\n",
    "'''\n",
    "\n",
    "# выполните запрос\n",
    "df2 = pd.read_sql_query(query2, con=engine)\n",
    "df2"
   ]
  },
  {
   "cell_type": "markdown",
   "metadata": {
    "id": "I3Wr82TplKpI"
   },
   "source": [
    "Какие аномалии наблюдаются в данных? О чём они говорят?"
   ]
  },
  {
   "cell_type": "code",
   "execution_count": 8,
   "metadata": {
    "id": "CEIGGQ6ODWKy",
    "scrolled": false
   },
   "outputs": [
    {
     "data": {
      "text/html": [
       "<div>\n",
       "<style scoped>\n",
       "    .dataframe tbody tr th:only-of-type {\n",
       "        vertical-align: middle;\n",
       "    }\n",
       "\n",
       "    .dataframe tbody tr th {\n",
       "        vertical-align: top;\n",
       "    }\n",
       "\n",
       "    .dataframe thead th {\n",
       "        text-align: right;\n",
       "    }\n",
       "</style>\n",
       "<table border=\"1\" class=\"dataframe\">\n",
       "  <thead>\n",
       "    <tr style=\"text-align: right;\">\n",
       "      <th></th>\n",
       "      <th>display_name</th>\n",
       "      <th>count</th>\n",
       "    </tr>\n",
       "  </thead>\n",
       "  <tbody>\n",
       "    <tr>\n",
       "      <th>4</th>\n",
       "      <td>Alan</td>\n",
       "      <td>8</td>\n",
       "    </tr>\n",
       "    <tr>\n",
       "      <th>7</th>\n",
       "      <td>Brian</td>\n",
       "      <td>15</td>\n",
       "    </tr>\n",
       "    <tr>\n",
       "      <th>10</th>\n",
       "      <td>Chris</td>\n",
       "      <td>29</td>\n",
       "    </tr>\n",
       "    <tr>\n",
       "      <th>12</th>\n",
       "      <td>Craig</td>\n",
       "      <td>10</td>\n",
       "    </tr>\n",
       "    <tr>\n",
       "      <th>14</th>\n",
       "      <td>Dan</td>\n",
       "      <td>21</td>\n",
       "    </tr>\n",
       "    <tr>\n",
       "      <th>21</th>\n",
       "      <td>Greg</td>\n",
       "      <td>12</td>\n",
       "    </tr>\n",
       "    <tr>\n",
       "      <th>25</th>\n",
       "      <td>Jim</td>\n",
       "      <td>7</td>\n",
       "    </tr>\n",
       "    <tr>\n",
       "      <th>26</th>\n",
       "      <td>Joe</td>\n",
       "      <td>9</td>\n",
       "    </tr>\n",
       "    <tr>\n",
       "      <th>33</th>\n",
       "      <td>Josh</td>\n",
       "      <td>16</td>\n",
       "    </tr>\n",
       "    <tr>\n",
       "      <th>34</th>\n",
       "      <td>Keith</td>\n",
       "      <td>5</td>\n",
       "    </tr>\n",
       "    <tr>\n",
       "      <th>35</th>\n",
       "      <td>Kevin</td>\n",
       "      <td>11</td>\n",
       "    </tr>\n",
       "    <tr>\n",
       "      <th>41</th>\n",
       "      <td>Mark</td>\n",
       "      <td>17</td>\n",
       "    </tr>\n",
       "    <tr>\n",
       "      <th>45</th>\n",
       "      <td>Matt</td>\n",
       "      <td>29</td>\n",
       "    </tr>\n",
       "    <tr>\n",
       "      <th>50</th>\n",
       "      <td>Nick</td>\n",
       "      <td>16</td>\n",
       "    </tr>\n",
       "    <tr>\n",
       "      <th>52</th>\n",
       "      <td>Oli</td>\n",
       "      <td>3</td>\n",
       "    </tr>\n",
       "    <tr>\n",
       "      <th>56</th>\n",
       "      <td>Rob</td>\n",
       "      <td>15</td>\n",
       "    </tr>\n",
       "    <tr>\n",
       "      <th>59</th>\n",
       "      <td>Ryan</td>\n",
       "      <td>10</td>\n",
       "    </tr>\n",
       "    <tr>\n",
       "      <th>64</th>\n",
       "      <td>Tom</td>\n",
       "      <td>19</td>\n",
       "    </tr>\n",
       "    <tr>\n",
       "      <th>72</th>\n",
       "      <td>jfs</td>\n",
       "      <td>3</td>\n",
       "    </tr>\n",
       "  </tbody>\n",
       "</table>\n",
       "</div>"
      ],
      "text/plain": [
       "   display_name  count\n",
       "4          Alan      8\n",
       "7         Brian     15\n",
       "10        Chris     29\n",
       "12        Craig     10\n",
       "14          Dan     21\n",
       "21         Greg     12\n",
       "25          Jim      7\n",
       "26          Joe      9\n",
       "33         Josh     16\n",
       "34        Keith      5\n",
       "35        Kevin     11\n",
       "41         Mark     17\n",
       "45         Matt     29\n",
       "50         Nick     16\n",
       "52          Oli      3\n",
       "56          Rob     15\n",
       "59         Ryan     10\n",
       "64          Tom     19\n",
       "72          jfs      3"
      ]
     },
     "execution_count": 8,
     "metadata": {},
     "output_type": "execute_result"
    }
   ],
   "source": [
    "df2.query('count>1')"
   ]
  },
  {
   "cell_type": "markdown",
   "metadata": {},
   "source": [
    "Многие пользователи при регистрации указывают только имя. Например, на сайте зарегистрированы по 29 пользователей Matt, Chris (имя одно, а пользователи разные)."
   ]
  },
  {
   "cell_type": "markdown",
   "metadata": {
    "id": "JhM2xXj5DWKu"
   },
   "source": [
    "# Задание 3"
   ]
  },
  {
   "cell_type": "markdown",
   "metadata": {
    "id": "IS6xPqyyDWKu"
   },
   "source": [
    "Выведите количество постов за 2008 год по месяцам. Отберите посты от пользователей, которые зарегистрировались в сентябре 2008 года и сделали хотя бы один пост в декабре того же года. Отсортируйте таблицу по значению месяца по убыванию."
   ]
  },
  {
   "cell_type": "code",
   "execution_count": 9,
   "metadata": {
    "id": "kVu0FB8WDWKv"
   },
   "outputs": [
    {
     "data": {
      "text/html": [
       "<div>\n",
       "<style scoped>\n",
       "    .dataframe tbody tr th:only-of-type {\n",
       "        vertical-align: middle;\n",
       "    }\n",
       "\n",
       "    .dataframe tbody tr th {\n",
       "        vertical-align: top;\n",
       "    }\n",
       "\n",
       "    .dataframe thead th {\n",
       "        text-align: right;\n",
       "    }\n",
       "</style>\n",
       "<table border=\"1\" class=\"dataframe\">\n",
       "  <thead>\n",
       "    <tr style=\"text-align: right;\">\n",
       "      <th></th>\n",
       "      <th>month</th>\n",
       "      <th>count</th>\n",
       "    </tr>\n",
       "  </thead>\n",
       "  <tbody>\n",
       "    <tr>\n",
       "      <th>0</th>\n",
       "      <td>2008-12-01</td>\n",
       "      <td>17641</td>\n",
       "    </tr>\n",
       "    <tr>\n",
       "      <th>1</th>\n",
       "      <td>2008-11-01</td>\n",
       "      <td>18294</td>\n",
       "    </tr>\n",
       "    <tr>\n",
       "      <th>2</th>\n",
       "      <td>2008-10-01</td>\n",
       "      <td>27171</td>\n",
       "    </tr>\n",
       "    <tr>\n",
       "      <th>3</th>\n",
       "      <td>2008-09-01</td>\n",
       "      <td>24870</td>\n",
       "    </tr>\n",
       "    <tr>\n",
       "      <th>4</th>\n",
       "      <td>2008-08-01</td>\n",
       "      <td>32</td>\n",
       "    </tr>\n",
       "  </tbody>\n",
       "</table>\n",
       "</div>"
      ],
      "text/plain": [
       "        month  count\n",
       "0  2008-12-01  17641\n",
       "1  2008-11-01  18294\n",
       "2  2008-10-01  27171\n",
       "3  2008-09-01  24870\n",
       "4  2008-08-01     32"
      ]
     },
     "execution_count": 9,
     "metadata": {},
     "output_type": "execute_result"
    }
   ],
   "source": [
    "# напишите запрос\n",
    "query3 = '''\n",
    "WITH t1 AS (\n",
    "    SELECT DISTINCT u.id\n",
    "    FROM stackoverflow.users u\n",
    "    JOIN stackoverflow.posts p ON u.id=p.user_id\n",
    "    WHERE DATE_TRUNC('month', u.creation_date)::date = '2008-09-01'\n",
    "    AND DATE_TRUNC('month', p.creation_date)::date = '2008-12-01'\n",
    ")\n",
    "\n",
    "SELECT DATE_TRUNC('month', p.creation_date)::date AS month, COUNT(p.id)\n",
    "FROM stackoverflow.posts p\n",
    "JOIN t1 ON t1.id=p.user_id\n",
    "GROUP BY DATE_TRUNC('month', p.creation_date)::date\n",
    "ORDER BY DATE_TRUNC('month', p.creation_date)::date DESC\n",
    "\n",
    "'''\n",
    "\n",
    "# выполните запрос\n",
    "df3 = pd.read_sql_query(query3, con=engine)\n",
    "df3"
   ]
  },
  {
   "cell_type": "markdown",
   "metadata": {
    "id": "Vnxn9DVHDWKx"
   },
   "source": [
    "Изучите данные: есть ли в них аномалии? Предположите, почему могли появиться аномальные значения."
   ]
  },
  {
   "cell_type": "markdown",
   "metadata": {
    "id": "MMVIz4yMlKpN"
   },
   "source": [
    "Есть 32 поста, сделанных в августе, которые создали пользователи, зарегистрировавшиеся в сентябре. Возможно, это связано с часовыми поясами: время создания аккаунта определяется по часовому поясу пользователя, время публикации поста по Гринвичу. В связи с этим могло быть такое, что пост пользователя из Китая или Кореи, который зарегистрировался 1го сентября, сайт учёл 31го августа."
   ]
  },
  {
   "cell_type": "markdown",
   "metadata": {
    "id": "5Pcizm0DDWKz"
   },
   "source": [
    "# Задание 4"
   ]
  },
  {
   "cell_type": "markdown",
   "metadata": {
    "id": "KUZPF6vHDWKz"
   },
   "source": [
    "Используя данные о постах, выведите несколько полей:\n",
    "\n",
    "- идентификатор пользователя, который написал пост;\n",
    "- дата создания поста;\n",
    "- количество просмотров у текущего поста;\n",
    "- сумму просмотров постов автора с накоплением.\n",
    "\n",
    "Данные в таблице должны быть отсортированы по возрастанию идентификаторов пользователей, а данные об одном и том же пользователе — по возрастанию даты создания поста."
   ]
  },
  {
   "cell_type": "code",
   "execution_count": 10,
   "metadata": {
    "id": "hDoJhMzfDWK0"
   },
   "outputs": [
    {
     "data": {
      "text/html": [
       "<div>\n",
       "<style scoped>\n",
       "    .dataframe tbody tr th:only-of-type {\n",
       "        vertical-align: middle;\n",
       "    }\n",
       "\n",
       "    .dataframe tbody tr th {\n",
       "        vertical-align: top;\n",
       "    }\n",
       "\n",
       "    .dataframe thead th {\n",
       "        text-align: right;\n",
       "    }\n",
       "</style>\n",
       "<table border=\"1\" class=\"dataframe\">\n",
       "  <thead>\n",
       "    <tr style=\"text-align: right;\">\n",
       "      <th></th>\n",
       "      <th>user_id</th>\n",
       "      <th>creation_date</th>\n",
       "      <th>views_count</th>\n",
       "      <th>cumulative_count</th>\n",
       "    </tr>\n",
       "  </thead>\n",
       "  <tbody>\n",
       "    <tr>\n",
       "      <th>0</th>\n",
       "      <td>1</td>\n",
       "      <td>2008-07-31 23:41:00</td>\n",
       "      <td>480476</td>\n",
       "      <td>480476</td>\n",
       "    </tr>\n",
       "    <tr>\n",
       "      <th>1</th>\n",
       "      <td>1</td>\n",
       "      <td>2008-07-31 23:55:38</td>\n",
       "      <td>136033</td>\n",
       "      <td>616509</td>\n",
       "    </tr>\n",
       "    <tr>\n",
       "      <th>2</th>\n",
       "      <td>1</td>\n",
       "      <td>2008-07-31 23:56:41</td>\n",
       "      <td>0</td>\n",
       "      <td>616509</td>\n",
       "    </tr>\n",
       "    <tr>\n",
       "      <th>3</th>\n",
       "      <td>1</td>\n",
       "      <td>2008-08-04 02:45:08</td>\n",
       "      <td>0</td>\n",
       "      <td>616509</td>\n",
       "    </tr>\n",
       "    <tr>\n",
       "      <th>4</th>\n",
       "      <td>1</td>\n",
       "      <td>2008-08-04 04:31:03</td>\n",
       "      <td>0</td>\n",
       "      <td>616509</td>\n",
       "    </tr>\n",
       "    <tr>\n",
       "      <th>...</th>\n",
       "      <td>...</td>\n",
       "      <td>...</td>\n",
       "      <td>...</td>\n",
       "      <td>...</td>\n",
       "    </tr>\n",
       "    <tr>\n",
       "      <th>243791</th>\n",
       "      <td>5696608</td>\n",
       "      <td>2008-12-23 16:00:37</td>\n",
       "      <td>0</td>\n",
       "      <td>2804</td>\n",
       "    </tr>\n",
       "    <tr>\n",
       "      <th>243792</th>\n",
       "      <td>5696608</td>\n",
       "      <td>2008-12-23 17:35:09</td>\n",
       "      <td>0</td>\n",
       "      <td>2804</td>\n",
       "    </tr>\n",
       "    <tr>\n",
       "      <th>243793</th>\n",
       "      <td>5696608</td>\n",
       "      <td>2008-12-24 01:02:48</td>\n",
       "      <td>0</td>\n",
       "      <td>2804</td>\n",
       "    </tr>\n",
       "    <tr>\n",
       "      <th>243794</th>\n",
       "      <td>5696608</td>\n",
       "      <td>2008-12-30 14:34:45</td>\n",
       "      <td>0</td>\n",
       "      <td>2804</td>\n",
       "    </tr>\n",
       "    <tr>\n",
       "      <th>243795</th>\n",
       "      <td>5696608</td>\n",
       "      <td>2008-12-30 16:32:12</td>\n",
       "      <td>0</td>\n",
       "      <td>2804</td>\n",
       "    </tr>\n",
       "  </tbody>\n",
       "</table>\n",
       "<p>243796 rows × 4 columns</p>\n",
       "</div>"
      ],
      "text/plain": [
       "        user_id       creation_date  views_count  cumulative_count\n",
       "0             1 2008-07-31 23:41:00       480476            480476\n",
       "1             1 2008-07-31 23:55:38       136033            616509\n",
       "2             1 2008-07-31 23:56:41            0            616509\n",
       "3             1 2008-08-04 02:45:08            0            616509\n",
       "4             1 2008-08-04 04:31:03            0            616509\n",
       "...         ...                 ...          ...               ...\n",
       "243791  5696608 2008-12-23 16:00:37            0              2804\n",
       "243792  5696608 2008-12-23 17:35:09            0              2804\n",
       "243793  5696608 2008-12-24 01:02:48            0              2804\n",
       "243794  5696608 2008-12-30 14:34:45            0              2804\n",
       "243795  5696608 2008-12-30 16:32:12            0              2804\n",
       "\n",
       "[243796 rows x 4 columns]"
      ]
     },
     "execution_count": 10,
     "metadata": {},
     "output_type": "execute_result"
    }
   ],
   "source": [
    "# напишите запрос\n",
    "query4 = '''\n",
    "SELECT user_id, creation_date, views_count, SUM(views_count) OVER(PARTITION BY user_id ORDER BY creation_date) cumulative_count\n",
    "FROM stackoverflow.posts\n",
    "ORDER BY user_id, creation_date\n",
    "'''\n",
    "\n",
    "# выполните запрос\n",
    "df4 = pd.read_sql_query(query4, con=engine)\n",
    "df4"
   ]
  },
  {
   "cell_type": "markdown",
   "metadata": {
    "id": "N0kHRHvIDWK2"
   },
   "source": [
    "# Задание 5"
   ]
  },
  {
   "cell_type": "markdown",
   "metadata": {
    "id": "gBgvmPtODWK2"
   },
   "source": [
    "Найдите среднее количество постов пользователей в день за август 2008 года. Отберите данные о пользователях, которые опубликовали больше 120 постов за август. Дни без публикаций не учитывайте. \n",
    "\n",
    "Отсортируйте результат по возрастанию среднего количества постов. Значения можно не округлять."
   ]
  },
  {
   "cell_type": "code",
   "execution_count": 11,
   "metadata": {
    "id": "YFyPNz5GDWK3"
   },
   "outputs": [
    {
     "data": {
      "text/html": [
       "<div>\n",
       "<style scoped>\n",
       "    .dataframe tbody tr th:only-of-type {\n",
       "        vertical-align: middle;\n",
       "    }\n",
       "\n",
       "    .dataframe tbody tr th {\n",
       "        vertical-align: top;\n",
       "    }\n",
       "\n",
       "    .dataframe thead th {\n",
       "        text-align: right;\n",
       "    }\n",
       "</style>\n",
       "<table border=\"1\" class=\"dataframe\">\n",
       "  <thead>\n",
       "    <tr style=\"text-align: right;\">\n",
       "      <th></th>\n",
       "      <th>user_id</th>\n",
       "      <th>avg_daily</th>\n",
       "    </tr>\n",
       "  </thead>\n",
       "  <tbody>\n",
       "    <tr>\n",
       "      <th>0</th>\n",
       "      <td>116</td>\n",
       "      <td>4.777778</td>\n",
       "    </tr>\n",
       "    <tr>\n",
       "      <th>1</th>\n",
       "      <td>234</td>\n",
       "      <td>5.208333</td>\n",
       "    </tr>\n",
       "    <tr>\n",
       "      <th>2</th>\n",
       "      <td>91</td>\n",
       "      <td>5.681818</td>\n",
       "    </tr>\n",
       "    <tr>\n",
       "      <th>3</th>\n",
       "      <td>905</td>\n",
       "      <td>7.000000</td>\n",
       "    </tr>\n",
       "    <tr>\n",
       "      <th>4</th>\n",
       "      <td>383</td>\n",
       "      <td>7.277778</td>\n",
       "    </tr>\n",
       "  </tbody>\n",
       "</table>\n",
       "</div>"
      ],
      "text/plain": [
       "   user_id  avg_daily\n",
       "0      116   4.777778\n",
       "1      234   5.208333\n",
       "2       91   5.681818\n",
       "3      905   7.000000\n",
       "4      383   7.277778"
      ]
     },
     "execution_count": 11,
     "metadata": {},
     "output_type": "execute_result"
    }
   ],
   "source": [
    "# напишите запрос\n",
    "query5 = '''\n",
    "WITH t1 AS(\n",
    "    SELECT DISTINCT user_id, COUNT(id)\n",
    "    FROM stackoverflow.posts\n",
    "    WHERE DATE_TRUNC('month', creation_date) = '2008-08-01'\n",
    "    GROUP BY user_id\n",
    "    HAVING COUNT(id)>120\n",
    "    ),\n",
    "\n",
    "t2 AS (\n",
    "    SELECT p.user_id, COUNT(p.id) c, DATE_TRUNC('day', creation_date) d\n",
    "    FROM stackoverflow.posts p\n",
    "    JOIN t1 ON t1.user_id=p.user_id\n",
    "    WHERE DATE_TRUNC('month', p.creation_date) = '2008-08-01'\n",
    "    GROUP BY p.user_id, DATE_TRUNC('day', creation_date)\n",
    "    HAVING COUNT(p.id)>0\n",
    ")\n",
    "\n",
    "SELECT DISTINCT user_id, AVG(c) avg_daily\n",
    "FROM t2\n",
    "GROUP BY user_id\n",
    "ORDER BY AVG(c)\n",
    "\n",
    "'''\n",
    "\n",
    "# выполните запрос\n",
    "df5 = pd.read_sql_query(query5, con=engine)\n",
    "df5"
   ]
  },
  {
   "cell_type": "markdown",
   "metadata": {
    "id": "EQ0dcFH4DWK5"
   },
   "source": [
    "# Задание 6"
   ]
  },
  {
   "cell_type": "markdown",
   "metadata": {
    "id": "c7flfg_hDWK5"
   },
   "source": [
    "Сколько в среднем дней в период с 1 по 7 декабря 2008 года пользователи взаимодействовали с платформой? Для каждого пользователя отберите дни, в которые он или она опубликовали хотя бы один пост. Нужно получить одно целое число — не забудьте округлить результат. "
   ]
  },
  {
   "cell_type": "code",
   "execution_count": 12,
   "metadata": {
    "id": "kZ7LXTr6DWK6"
   },
   "outputs": [
    {
     "data": {
      "text/html": [
       "<div>\n",
       "<style scoped>\n",
       "    .dataframe tbody tr th:only-of-type {\n",
       "        vertical-align: middle;\n",
       "    }\n",
       "\n",
       "    .dataframe tbody tr th {\n",
       "        vertical-align: top;\n",
       "    }\n",
       "\n",
       "    .dataframe thead th {\n",
       "        text-align: right;\n",
       "    }\n",
       "</style>\n",
       "<table border=\"1\" class=\"dataframe\">\n",
       "  <thead>\n",
       "    <tr style=\"text-align: right;\">\n",
       "      <th></th>\n",
       "      <th>result</th>\n",
       "    </tr>\n",
       "  </thead>\n",
       "  <tbody>\n",
       "    <tr>\n",
       "      <th>0</th>\n",
       "      <td>2</td>\n",
       "    </tr>\n",
       "  </tbody>\n",
       "</table>\n",
       "</div>"
      ],
      "text/plain": [
       "   result\n",
       "0       2"
      ]
     },
     "execution_count": 12,
     "metadata": {},
     "output_type": "execute_result"
    }
   ],
   "source": [
    "# напишите запрос\n",
    "query6 = '''\n",
    "WITH t1 AS (\n",
    "    SELECT DISTINCT user_id, DATE_TRUNC('day', creation_date) d\n",
    "    FROM stackoverflow.posts\n",
    "    WHERE DATE_TRUNC('day', creation_date) >= '2008-12-01'\n",
    "    AND DATE_TRUNC('day', creation_date) <= '2008-12-07'\n",
    "),\n",
    "\n",
    "t2 AS (\n",
    "    SELECT user_id, COUNT(d) c\n",
    "    FROM t1\n",
    "    GROUP BY user_id\n",
    ")\n",
    "    \n",
    "SELECT ROUND(AVG(c), 0)::int result\n",
    "FROM t2\n",
    "\n",
    "\n",
    "'''\n",
    "\n",
    "# выполните запрос\n",
    "df6 = pd.read_sql_query(query6, con=engine)\n",
    "df6"
   ]
  },
  {
   "cell_type": "markdown",
   "metadata": {
    "id": "UJFtNNggDWK7"
   },
   "source": [
    "Проанализируйте итоговую таблицу — какие выводы можно сделать?"
   ]
  },
  {
   "cell_type": "markdown",
   "metadata": {
    "id": "LfUuYz-1DWK8"
   },
   "source": [
    "В среднем, пользователь пользовался платформой 2 дня в неделю в начале декабря."
   ]
  },
  {
   "cell_type": "markdown",
   "metadata": {
    "id": "wfOmqmfLDWK8"
   },
   "source": [
    "# Задание 7"
   ]
  },
  {
   "cell_type": "markdown",
   "metadata": {
    "id": "X4ARQimADWK9"
   },
   "source": [
    "Выведите историю активности каждого пользователя в таком виде: идентификатор пользователя, дата публикации поста. Отсортируйте вывод по возрастанию идентификаторов пользователей, а для каждого пользователя — по возрастанию даты публикации.\n",
    "\n",
    "Добавьте в таблицу новое поле: для каждого поста в нём будет указано название месяца предпоследней публикации пользователя относительно текущей. Если такой публикации нет, укажите `NULL`.  Python автоматически поменяет `NULL` на `None`, но дополнительно преобразовывать значения `None` вам не нужно."
   ]
  },
  {
   "cell_type": "code",
   "execution_count": 13,
   "metadata": {
    "id": "HzI1vhaMDWK-"
   },
   "outputs": [
    {
     "data": {
      "text/html": [
       "<div>\n",
       "<style scoped>\n",
       "    .dataframe tbody tr th:only-of-type {\n",
       "        vertical-align: middle;\n",
       "    }\n",
       "\n",
       "    .dataframe tbody tr th {\n",
       "        vertical-align: top;\n",
       "    }\n",
       "\n",
       "    .dataframe thead th {\n",
       "        text-align: right;\n",
       "    }\n",
       "</style>\n",
       "<table border=\"1\" class=\"dataframe\">\n",
       "  <thead>\n",
       "    <tr style=\"text-align: right;\">\n",
       "      <th></th>\n",
       "      <th>user_id</th>\n",
       "      <th>creation_date</th>\n",
       "      <th>second_last_month</th>\n",
       "    </tr>\n",
       "  </thead>\n",
       "  <tbody>\n",
       "    <tr>\n",
       "      <th>0</th>\n",
       "      <td>1</td>\n",
       "      <td>2008-07-31 23:41:00</td>\n",
       "      <td>None</td>\n",
       "    </tr>\n",
       "    <tr>\n",
       "      <th>1</th>\n",
       "      <td>1</td>\n",
       "      <td>2008-07-31 23:55:38</td>\n",
       "      <td>None</td>\n",
       "    </tr>\n",
       "    <tr>\n",
       "      <th>2</th>\n",
       "      <td>1</td>\n",
       "      <td>2008-07-31 23:56:41</td>\n",
       "      <td>July</td>\n",
       "    </tr>\n",
       "    <tr>\n",
       "      <th>3</th>\n",
       "      <td>1</td>\n",
       "      <td>2008-08-04 02:45:08</td>\n",
       "      <td>July</td>\n",
       "    </tr>\n",
       "    <tr>\n",
       "      <th>4</th>\n",
       "      <td>1</td>\n",
       "      <td>2008-08-04 04:31:03</td>\n",
       "      <td>July</td>\n",
       "    </tr>\n",
       "    <tr>\n",
       "      <th>...</th>\n",
       "      <td>...</td>\n",
       "      <td>...</td>\n",
       "      <td>...</td>\n",
       "    </tr>\n",
       "    <tr>\n",
       "      <th>243791</th>\n",
       "      <td>5696608</td>\n",
       "      <td>2008-12-23 16:00:37</td>\n",
       "      <td>December</td>\n",
       "    </tr>\n",
       "    <tr>\n",
       "      <th>243792</th>\n",
       "      <td>5696608</td>\n",
       "      <td>2008-12-23 17:35:09</td>\n",
       "      <td>December</td>\n",
       "    </tr>\n",
       "    <tr>\n",
       "      <th>243793</th>\n",
       "      <td>5696608</td>\n",
       "      <td>2008-12-24 01:02:48</td>\n",
       "      <td>December</td>\n",
       "    </tr>\n",
       "    <tr>\n",
       "      <th>243794</th>\n",
       "      <td>5696608</td>\n",
       "      <td>2008-12-30 14:34:45</td>\n",
       "      <td>December</td>\n",
       "    </tr>\n",
       "    <tr>\n",
       "      <th>243795</th>\n",
       "      <td>5696608</td>\n",
       "      <td>2008-12-30 16:32:12</td>\n",
       "      <td>December</td>\n",
       "    </tr>\n",
       "  </tbody>\n",
       "</table>\n",
       "<p>243796 rows × 3 columns</p>\n",
       "</div>"
      ],
      "text/plain": [
       "        user_id       creation_date second_last_month\n",
       "0             1 2008-07-31 23:41:00              None\n",
       "1             1 2008-07-31 23:55:38              None\n",
       "2             1 2008-07-31 23:56:41              July\n",
       "3             1 2008-08-04 02:45:08              July\n",
       "4             1 2008-08-04 04:31:03              July\n",
       "...         ...                 ...               ...\n",
       "243791  5696608 2008-12-23 16:00:37          December\n",
       "243792  5696608 2008-12-23 17:35:09          December\n",
       "243793  5696608 2008-12-24 01:02:48          December\n",
       "243794  5696608 2008-12-30 14:34:45          December\n",
       "243795  5696608 2008-12-30 16:32:12          December\n",
       "\n",
       "[243796 rows x 3 columns]"
      ]
     },
     "execution_count": 13,
     "metadata": {},
     "output_type": "execute_result"
    }
   ],
   "source": [
    "# напишите запрос\n",
    "query7 = '''\n",
    "WITH t1 AS (\n",
    "    SELECT user_id, creation_date, LAG(DATE_TRUNC('month', creation_date), 2, NULL) OVER(PARTITION BY user_id ORDER BY creation_date) d\n",
    "    FROM stackoverflow.posts\n",
    "    ORDER BY user_id, creation_date\n",
    ")\n",
    "\n",
    "SELECT user_id, creation_date,\n",
    "    CASE\n",
    "        WHEN d='2008-07-01' THEN 'July'\n",
    "        WHEN d='2008-08-01' THEN 'August'\n",
    "        WHEN d='2008-09-01' THEN 'September'\n",
    "        WHEN d='2008-10-01' THEN 'October'\n",
    "        WHEN d='2008-11-01' THEN 'November'\n",
    "        WHEN d='2008-12-01' THEN 'December'\n",
    "    END AS second_last_month\n",
    "FROM t1\n",
    "'''\n",
    "\n",
    "# выполните запрос\n",
    "df7 = pd.read_sql_query(query7, con=engine)\n",
    "df7"
   ]
  },
  {
   "cell_type": "markdown",
   "metadata": {
    "id": "tf9qq2yzDWK_"
   },
   "source": [
    "# Задание 8"
   ]
  },
  {
   "cell_type": "markdown",
   "metadata": {
    "id": "gfwLVXBYDWLA"
   },
   "source": [
    "Рассчитайте аналог Retention Rate по месяцам для пользователей. Объедините пользователей в когорты по месяцу их первого поста. Возвращение определяйте по наличию поста в текущем месяце. "
   ]
  },
  {
   "cell_type": "code",
   "execution_count": 14,
   "metadata": {
    "id": "LUgFmwmTDWLB"
   },
   "outputs": [
    {
     "data": {
      "text/html": [
       "<div>\n",
       "<style scoped>\n",
       "    .dataframe tbody tr th:only-of-type {\n",
       "        vertical-align: middle;\n",
       "    }\n",
       "\n",
       "    .dataframe tbody tr th {\n",
       "        vertical-align: top;\n",
       "    }\n",
       "\n",
       "    .dataframe thead th {\n",
       "        text-align: right;\n",
       "    }\n",
       "</style>\n",
       "<table border=\"1\" class=\"dataframe\">\n",
       "  <thead>\n",
       "    <tr style=\"text-align: right;\">\n",
       "      <th></th>\n",
       "      <th>cohort_dt</th>\n",
       "      <th>session_date</th>\n",
       "      <th>users_cnt</th>\n",
       "      <th>cohort_users_cnt</th>\n",
       "      <th>retention_rate</th>\n",
       "    </tr>\n",
       "  </thead>\n",
       "  <tbody>\n",
       "    <tr>\n",
       "      <th>0</th>\n",
       "      <td>2008-07-01</td>\n",
       "      <td>2008-07-01</td>\n",
       "      <td>3</td>\n",
       "      <td>3</td>\n",
       "      <td>100.00</td>\n",
       "    </tr>\n",
       "    <tr>\n",
       "      <th>1</th>\n",
       "      <td>2008-07-01</td>\n",
       "      <td>2008-08-01</td>\n",
       "      <td>2</td>\n",
       "      <td>3</td>\n",
       "      <td>66.67</td>\n",
       "    </tr>\n",
       "    <tr>\n",
       "      <th>2</th>\n",
       "      <td>2008-07-01</td>\n",
       "      <td>2008-09-01</td>\n",
       "      <td>1</td>\n",
       "      <td>3</td>\n",
       "      <td>33.33</td>\n",
       "    </tr>\n",
       "    <tr>\n",
       "      <th>3</th>\n",
       "      <td>2008-07-01</td>\n",
       "      <td>2008-10-01</td>\n",
       "      <td>2</td>\n",
       "      <td>3</td>\n",
       "      <td>66.67</td>\n",
       "    </tr>\n",
       "    <tr>\n",
       "      <th>4</th>\n",
       "      <td>2008-07-01</td>\n",
       "      <td>2008-11-01</td>\n",
       "      <td>1</td>\n",
       "      <td>3</td>\n",
       "      <td>33.33</td>\n",
       "    </tr>\n",
       "    <tr>\n",
       "      <th>5</th>\n",
       "      <td>2008-07-01</td>\n",
       "      <td>2008-12-01</td>\n",
       "      <td>2</td>\n",
       "      <td>3</td>\n",
       "      <td>66.67</td>\n",
       "    </tr>\n",
       "    <tr>\n",
       "      <th>6</th>\n",
       "      <td>2008-08-01</td>\n",
       "      <td>2008-08-01</td>\n",
       "      <td>2151</td>\n",
       "      <td>2151</td>\n",
       "      <td>100.00</td>\n",
       "    </tr>\n",
       "    <tr>\n",
       "      <th>7</th>\n",
       "      <td>2008-08-01</td>\n",
       "      <td>2008-09-01</td>\n",
       "      <td>1571</td>\n",
       "      <td>2151</td>\n",
       "      <td>73.04</td>\n",
       "    </tr>\n",
       "    <tr>\n",
       "      <th>8</th>\n",
       "      <td>2008-08-01</td>\n",
       "      <td>2008-10-01</td>\n",
       "      <td>1275</td>\n",
       "      <td>2151</td>\n",
       "      <td>59.27</td>\n",
       "    </tr>\n",
       "    <tr>\n",
       "      <th>9</th>\n",
       "      <td>2008-08-01</td>\n",
       "      <td>2008-11-01</td>\n",
       "      <td>1050</td>\n",
       "      <td>2151</td>\n",
       "      <td>48.81</td>\n",
       "    </tr>\n",
       "    <tr>\n",
       "      <th>10</th>\n",
       "      <td>2008-08-01</td>\n",
       "      <td>2008-12-01</td>\n",
       "      <td>894</td>\n",
       "      <td>2151</td>\n",
       "      <td>41.56</td>\n",
       "    </tr>\n",
       "    <tr>\n",
       "      <th>11</th>\n",
       "      <td>2008-09-01</td>\n",
       "      <td>2008-09-01</td>\n",
       "      <td>7678</td>\n",
       "      <td>7678</td>\n",
       "      <td>100.00</td>\n",
       "    </tr>\n",
       "    <tr>\n",
       "      <th>12</th>\n",
       "      <td>2008-09-01</td>\n",
       "      <td>2008-10-01</td>\n",
       "      <td>4132</td>\n",
       "      <td>7678</td>\n",
       "      <td>53.82</td>\n",
       "    </tr>\n",
       "    <tr>\n",
       "      <th>13</th>\n",
       "      <td>2008-09-01</td>\n",
       "      <td>2008-11-01</td>\n",
       "      <td>2966</td>\n",
       "      <td>7678</td>\n",
       "      <td>38.63</td>\n",
       "    </tr>\n",
       "    <tr>\n",
       "      <th>14</th>\n",
       "      <td>2008-09-01</td>\n",
       "      <td>2008-12-01</td>\n",
       "      <td>2500</td>\n",
       "      <td>7678</td>\n",
       "      <td>32.56</td>\n",
       "    </tr>\n",
       "    <tr>\n",
       "      <th>15</th>\n",
       "      <td>2008-10-01</td>\n",
       "      <td>2008-10-01</td>\n",
       "      <td>3629</td>\n",
       "      <td>3629</td>\n",
       "      <td>100.00</td>\n",
       "    </tr>\n",
       "    <tr>\n",
       "      <th>16</th>\n",
       "      <td>2008-10-01</td>\n",
       "      <td>2008-11-01</td>\n",
       "      <td>1640</td>\n",
       "      <td>3629</td>\n",
       "      <td>45.19</td>\n",
       "    </tr>\n",
       "    <tr>\n",
       "      <th>17</th>\n",
       "      <td>2008-10-01</td>\n",
       "      <td>2008-12-01</td>\n",
       "      <td>1221</td>\n",
       "      <td>3629</td>\n",
       "      <td>33.65</td>\n",
       "    </tr>\n",
       "    <tr>\n",
       "      <th>18</th>\n",
       "      <td>2008-11-01</td>\n",
       "      <td>2008-11-01</td>\n",
       "      <td>2852</td>\n",
       "      <td>2852</td>\n",
       "      <td>100.00</td>\n",
       "    </tr>\n",
       "    <tr>\n",
       "      <th>19</th>\n",
       "      <td>2008-11-01</td>\n",
       "      <td>2008-12-01</td>\n",
       "      <td>1151</td>\n",
       "      <td>2852</td>\n",
       "      <td>40.36</td>\n",
       "    </tr>\n",
       "    <tr>\n",
       "      <th>20</th>\n",
       "      <td>2008-12-01</td>\n",
       "      <td>2008-12-01</td>\n",
       "      <td>2536</td>\n",
       "      <td>2536</td>\n",
       "      <td>100.00</td>\n",
       "    </tr>\n",
       "  </tbody>\n",
       "</table>\n",
       "</div>"
      ],
      "text/plain": [
       "    cohort_dt session_date  users_cnt  cohort_users_cnt  retention_rate\n",
       "0  2008-07-01   2008-07-01          3                 3          100.00\n",
       "1  2008-07-01   2008-08-01          2                 3           66.67\n",
       "2  2008-07-01   2008-09-01          1                 3           33.33\n",
       "3  2008-07-01   2008-10-01          2                 3           66.67\n",
       "4  2008-07-01   2008-11-01          1                 3           33.33\n",
       "5  2008-07-01   2008-12-01          2                 3           66.67\n",
       "6  2008-08-01   2008-08-01       2151              2151          100.00\n",
       "7  2008-08-01   2008-09-01       1571              2151           73.04\n",
       "8  2008-08-01   2008-10-01       1275              2151           59.27\n",
       "9  2008-08-01   2008-11-01       1050              2151           48.81\n",
       "10 2008-08-01   2008-12-01        894              2151           41.56\n",
       "11 2008-09-01   2008-09-01       7678              7678          100.00\n",
       "12 2008-09-01   2008-10-01       4132              7678           53.82\n",
       "13 2008-09-01   2008-11-01       2966              7678           38.63\n",
       "14 2008-09-01   2008-12-01       2500              7678           32.56\n",
       "15 2008-10-01   2008-10-01       3629              3629          100.00\n",
       "16 2008-10-01   2008-11-01       1640              3629           45.19\n",
       "17 2008-10-01   2008-12-01       1221              3629           33.65\n",
       "18 2008-11-01   2008-11-01       2852              2852          100.00\n",
       "19 2008-11-01   2008-12-01       1151              2852           40.36\n",
       "20 2008-12-01   2008-12-01       2536              2536          100.00"
      ]
     },
     "execution_count": 14,
     "metadata": {},
     "output_type": "execute_result"
    }
   ],
   "source": [
    "# напишите запрос\n",
    "query8 = '''\n",
    "WITH t1 AS (\n",
    "    SELECT user_id, MIN(DATE_TRUNC('month', creation_date)) cohort_dt\n",
    "    FROM stackoverflow.posts\n",
    "    GROUP BY user_id\n",
    "    ORDER BY cohort_dt\n",
    "),\n",
    "profile AS (\n",
    "    SELECT user_id,\n",
    "        cohort_dt,\n",
    "        COUNT(*) OVER (PARTITION BY cohort_dt) cohort_users_cnt\n",
    "    FROM t1\n",
    " ),\n",
    "sessions AS (\n",
    "    SELECT user_id,\n",
    "        DATE_TRUNC('month', creation_date) session_date\n",
    "        FROM stackoverflow.posts\n",
    "        GROUP BY 1,2\n",
    ")\n",
    "\n",
    "SELECT p.cohort_dt,\n",
    "       s.session_date,\n",
    "       COUNT(p.user_id) users_cnt,\n",
    "       p.cohort_users_cnt,\n",
    "       ROUND(COUNT(p.user_id)*100.0/p.cohort_users_cnt, 2) retention_rate\n",
    "FROM profile p\n",
    "JOIN sessions s ON p.user_id=s.user_id\n",
    "GROUP BY 1, 2, 4\n",
    "ORDER BY 1, 2\n",
    "\n",
    "'''\n",
    "\n",
    "# выполните запрос\n",
    "df8 = pd.read_sql_query(query8, con=engine)\n",
    "df8"
   ]
  },
  {
   "cell_type": "markdown",
   "metadata": {
    "id": "_msBtnb2DWLC"
   },
   "source": [
    "Постройте тепловую карту Retention Rate. Какие аномалии или другие необычные явления удалось выявить? Сформулируйте гипотезы о возможных причинах."
   ]
  },
  {
   "cell_type": "code",
   "execution_count": 15,
   "metadata": {
    "id": "qAEJc8H1DWLC"
   },
   "outputs": [
    {
     "data": {
      "image/png": "[encoded data removed]",
      "text/plain": [
       "<Figure size 1080x432 with 2 Axes>"
      ]
     },
     "metadata": {
      "needs_background": "light"
     },
     "output_type": "display_data"
    }
   ],
   "source": [
    "df8['cohort_dt']=df8['cohort_dt'].astype('str')\n",
    "df8['session_date']=df8['session_date'].astype('str')\n",
    "df8_=df8.pivot_table(index='cohort_dt', columns='session_date', values='retention_rate')\n",
    "plt.figure(figsize=(15, 6))\n",
    "sns.heatmap(df8_, annot=True, fmt='.2f')\n",
    "plt.title('Тепловая карта удержания')\n",
    "plt.show()"
   ]
  },
  {
   "cell_type": "markdown",
   "metadata": {
    "id": "EgOfIsI4DWLC"
   },
   "source": [
    "Аномально выглядит июльская когорта, но в ней всего лишь 3 пользователя (из-за слишком маленькой выборки мы не наблюдаем постепенное снижение Retention Rate).\n",
    "Лучшие показатели удержания демонстрируют пользователи из августовской когорты. Когорты, начиная с сентября, включают в себя больше пользователей, но Retention Rate ниже. Как говорили выше, возможно, что, начиная с сентября, на сайт заходили студенты и школьники после каникул, чтобы найти нужную информацию, и, получив её, многие из них дальнейшее участие в работе сообщества на сайте не принимали."
   ]
  },
  {
   "cell_type": "markdown",
   "metadata": {
    "id": "1k7oPWt5DWLK"
   },
   "source": [
    "# Задание 9\n"
   ]
  },
  {
   "cell_type": "markdown",
   "metadata": {
    "id": "ALsYVSyRDWLM"
   },
   "source": [
    "На сколько процентов менялось количество постов ежемесячно с 1 сентября по 31 декабря 2008 года? Отобразите таблицу со следующими полями:\n",
    "\n",
    "- номер месяца;\n",
    "- количество постов за месяц;\n",
    "- процент, который показывает, насколько изменилось количество постов в текущем месяце по сравнению с предыдущим.\n",
    "\n",
    "Если постов стало меньше, значение процента должно быть отрицательным, если больше — положительным. Округлите значение процента до двух знаков после запятой."
   ]
  },
  {
   "cell_type": "code",
   "execution_count": 16,
   "metadata": {
    "id": "Mb5pShStDWLN"
   },
   "outputs": [
    {
     "data": {
      "text/html": [
       "<div>\n",
       "<style scoped>\n",
       "    .dataframe tbody tr th:only-of-type {\n",
       "        vertical-align: middle;\n",
       "    }\n",
       "\n",
       "    .dataframe tbody tr th {\n",
       "        vertical-align: top;\n",
       "    }\n",
       "\n",
       "    .dataframe thead th {\n",
       "        text-align: right;\n",
       "    }\n",
       "</style>\n",
       "<table border=\"1\" class=\"dataframe\">\n",
       "  <thead>\n",
       "    <tr style=\"text-align: right;\">\n",
       "      <th></th>\n",
       "      <th>creation_month</th>\n",
       "      <th>posts_count</th>\n",
       "      <th>percentage</th>\n",
       "    </tr>\n",
       "  </thead>\n",
       "  <tbody>\n",
       "    <tr>\n",
       "      <th>0</th>\n",
       "      <td>9</td>\n",
       "      <td>70371</td>\n",
       "      <td>NaN</td>\n",
       "    </tr>\n",
       "    <tr>\n",
       "      <th>1</th>\n",
       "      <td>10</td>\n",
       "      <td>63102</td>\n",
       "      <td>-10.33</td>\n",
       "    </tr>\n",
       "    <tr>\n",
       "      <th>2</th>\n",
       "      <td>11</td>\n",
       "      <td>46975</td>\n",
       "      <td>-25.56</td>\n",
       "    </tr>\n",
       "    <tr>\n",
       "      <th>3</th>\n",
       "      <td>12</td>\n",
       "      <td>44592</td>\n",
       "      <td>-5.07</td>\n",
       "    </tr>\n",
       "  </tbody>\n",
       "</table>\n",
       "</div>"
      ],
      "text/plain": [
       "   creation_month  posts_count  percentage\n",
       "0               9        70371         NaN\n",
       "1              10        63102      -10.33\n",
       "2              11        46975      -25.56\n",
       "3              12        44592       -5.07"
      ]
     },
     "execution_count": 16,
     "metadata": {},
     "output_type": "execute_result"
    }
   ],
   "source": [
    "# напишите запрос\n",
    "query9 = '''\n",
    "WITH t1 AS (\n",
    "    SELECT EXTRACT('month' FROM creation_date)::int creation_month,\n",
    "        COUNT(id) posts_count\n",
    "    FROM stackoverflow.posts\n",
    "    WHERE DATE_TRUNC('day', creation_date) BETWEEN '2008-09-01' AND '2008-12-31'\n",
    "    GROUP BY EXTRACT('month' FROM creation_date)\n",
    ")\n",
    "\n",
    "SELECT *, ROUND((posts_count - LAG(posts_count, 1, NULL) OVER())::numeric / LAG(posts_count, 1, NULL) OVER() *100, 2) percentage\n",
    "FROM t1\n",
    "\n",
    "'''\n",
    "\n",
    "# выполните запрос\n",
    "df9 = pd.read_sql_query(query9, con=engine)\n",
    "df9"
   ]
  },
  {
   "cell_type": "markdown",
   "metadata": {
    "id": "9NQE2y_MDWLP"
   },
   "source": [
    "Постройте круговую диаграмму с количеством постов по месяцам."
   ]
  },
  {
   "cell_type": "code",
   "execution_count": 17,
   "metadata": {
    "id": "377ABjiVDWLP"
   },
   "outputs": [
    {
     "data": {
      "text/plain": [
       "Text(0.5, 1.0, 'Количество постов по месяцам')"
      ]
     },
     "execution_count": 17,
     "metadata": {},
     "output_type": "execute_result"
    },
    {
     "data": {
      "image/png": "[encoded data removed]",
      "text/plain": [
       "<Figure size 432x288 with 1 Axes>"
      ]
     },
     "metadata": {},
     "output_type": "display_data"
    }
   ],
   "source": [
    "# постройте круговую диаграмму с количеством постов по месяцам\n",
    "plt.pie(df9['posts_count'], labels=df9['creation_month'], autopct='%1.1f%%')\n",
    "plt.title('Количество постов по месяцам')"
   ]
  },
  {
   "cell_type": "markdown",
   "metadata": {
    "id": "uw7qMtafDWLP"
   },
   "source": [
    "# Задание 10"
   ]
  },
  {
   "cell_type": "markdown",
   "metadata": {
    "id": "oRBpWKx3DWLQ"
   },
   "source": [
    "Выгрузите данные активности пользователя, который опубликовал больше всего постов за всё время. Выведите данные за октябрь 2008 года в таком виде:\n",
    "\n",
    "- номер недели;\n",
    "- дата и время последнего поста, опубликованного на этой неделе."
   ]
  },
  {
   "cell_type": "code",
   "execution_count": 18,
   "metadata": {
    "id": "r5F5fSkwDWLQ"
   },
   "outputs": [
    {
     "data": {
      "text/html": [
       "<div>\n",
       "<style scoped>\n",
       "    .dataframe tbody tr th:only-of-type {\n",
       "        vertical-align: middle;\n",
       "    }\n",
       "\n",
       "    .dataframe tbody tr th {\n",
       "        vertical-align: top;\n",
       "    }\n",
       "\n",
       "    .dataframe thead th {\n",
       "        text-align: right;\n",
       "    }\n",
       "</style>\n",
       "<table border=\"1\" class=\"dataframe\">\n",
       "  <thead>\n",
       "    <tr style=\"text-align: right;\">\n",
       "      <th></th>\n",
       "      <th>week_creation</th>\n",
       "      <th>creation_date</th>\n",
       "    </tr>\n",
       "  </thead>\n",
       "  <tbody>\n",
       "    <tr>\n",
       "      <th>0</th>\n",
       "      <td>40</td>\n",
       "      <td>2008-10-05 09:00:58</td>\n",
       "    </tr>\n",
       "    <tr>\n",
       "      <th>1</th>\n",
       "      <td>41</td>\n",
       "      <td>2008-10-12 21:22:23</td>\n",
       "    </tr>\n",
       "    <tr>\n",
       "      <th>2</th>\n",
       "      <td>42</td>\n",
       "      <td>2008-10-19 06:49:30</td>\n",
       "    </tr>\n",
       "    <tr>\n",
       "      <th>3</th>\n",
       "      <td>43</td>\n",
       "      <td>2008-10-26 21:44:36</td>\n",
       "    </tr>\n",
       "    <tr>\n",
       "      <th>4</th>\n",
       "      <td>44</td>\n",
       "      <td>2008-10-31 22:16:01</td>\n",
       "    </tr>\n",
       "  </tbody>\n",
       "</table>\n",
       "</div>"
      ],
      "text/plain": [
       "   week_creation       creation_date\n",
       "0             40 2008-10-05 09:00:58\n",
       "1             41 2008-10-12 21:22:23\n",
       "2             42 2008-10-19 06:49:30\n",
       "3             43 2008-10-26 21:44:36\n",
       "4             44 2008-10-31 22:16:01"
      ]
     },
     "execution_count": 18,
     "metadata": {},
     "output_type": "execute_result"
    }
   ],
   "source": [
    "# напишите запрос\n",
    "query10 = '''\n",
    "WITH t1 AS (\n",
    "    SELECT user_id, COUNT(id)\n",
    "    FROM stackoverflow.posts\n",
    "    GROUP BY user_id\n",
    "    ORDER BY COUNT(id) DESC\n",
    "    LIMIT 1\n",
    ")\n",
    "SELECT DISTINCT EXTRACT('week' FROM p.creation_date)::int week_creation,\n",
    "    MAX(p.creation_date) OVER (PARTITION BY EXTRACT('week' FROM p.creation_date)) creation_date\n",
    "FROM stackoverflow.posts p\n",
    "JOIN t1 ON t1.user_id=p.user_id\n",
    "WHERE DATE_TRUNC('month', p.creation_date)='2008-10-01'\n",
    "\n",
    "'''\n",
    "\n",
    "# выполните запрос\n",
    "df10 = pd.read_sql_query(query10, con=engine)\n",
    "df10"
   ]
  }
 ],
 "metadata": {
  "ExecuteTimeLog": [
   {
    "duration": 929,
    "start_time": "2023-02-09T07:55:26.647Z"
   },
   {
    "duration": 7,
    "start_time": "2023-02-09T07:55:27.579Z"
   },
   {
    "duration": 8983,
    "start_time": "2023-02-09T07:55:27.587Z"
   },
   {
    "duration": 234,
    "start_time": "2023-02-09T07:55:36.572Z"
   },
   {
    "duration": 258,
    "start_time": "2023-02-09T08:02:37.217Z"
   },
   {
    "duration": 149,
    "start_time": "2023-02-09T08:02:58.888Z"
   },
   {
    "duration": 151,
    "start_time": "2023-02-09T08:03:44.511Z"
   },
   {
    "duration": 199,
    "start_time": "2023-02-09T08:04:01.528Z"
   },
   {
    "duration": 991,
    "start_time": "2023-02-09T08:04:52.646Z"
   },
   {
    "duration": 17,
    "start_time": "2023-02-09T08:04:55.067Z"
   },
   {
    "duration": 952,
    "start_time": "2023-02-09T08:05:46.305Z"
   },
   {
    "duration": 154,
    "start_time": "2023-02-09T08:06:09.302Z"
   },
   {
    "duration": 150,
    "start_time": "2023-02-09T08:06:49.587Z"
   },
   {
    "duration": 152,
    "start_time": "2023-02-09T08:07:44.414Z"
   },
   {
    "duration": 155,
    "start_time": "2023-02-09T08:08:01.865Z"
   },
   {
    "duration": 140,
    "start_time": "2023-02-09T08:08:20.510Z"
   },
   {
    "duration": 145,
    "start_time": "2023-02-09T08:25:31.672Z"
   },
   {
    "duration": 131,
    "start_time": "2023-02-09T08:26:01.379Z"
   },
   {
    "duration": 66,
    "start_time": "2023-02-09T08:26:33.233Z"
   },
   {
    "duration": 103,
    "start_time": "2023-02-09T08:27:01.236Z"
   },
   {
    "duration": 174,
    "start_time": "2023-02-09T08:27:26.314Z"
   },
   {
    "duration": 137,
    "start_time": "2023-02-09T08:28:04.968Z"
   },
   {
    "duration": 198,
    "start_time": "2023-02-09T08:29:04.596Z"
   },
   {
    "duration": 139,
    "start_time": "2023-02-09T08:29:53.067Z"
   },
   {
    "duration": 125,
    "start_time": "2023-02-09T08:30:26.828Z"
   },
   {
    "duration": 116,
    "start_time": "2023-02-09T08:30:38.939Z"
   },
   {
    "duration": 127,
    "start_time": "2023-02-09T08:30:51.392Z"
   },
   {
    "duration": 113,
    "start_time": "2023-02-09T08:31:12.293Z"
   },
   {
    "duration": 115,
    "start_time": "2023-02-09T08:31:50.622Z"
   },
   {
    "duration": 113,
    "start_time": "2023-02-09T08:32:26.385Z"
   },
   {
    "duration": 117,
    "start_time": "2023-02-09T08:32:51.608Z"
   },
   {
    "duration": 131,
    "start_time": "2023-02-09T08:33:16.386Z"
   },
   {
    "duration": 116,
    "start_time": "2023-02-09T08:33:42.771Z"
   },
   {
    "duration": 114,
    "start_time": "2023-02-09T08:34:07.370Z"
   },
   {
    "duration": 139,
    "start_time": "2023-02-09T08:35:45.076Z"
   },
   {
    "duration": 703,
    "start_time": "2023-02-09T08:36:04.514Z"
   },
   {
    "duration": 113,
    "start_time": "2023-02-09T08:36:50.269Z"
   },
   {
    "duration": 608,
    "start_time": "2023-02-09T08:37:30.167Z"
   },
   {
    "duration": 135,
    "start_time": "2023-02-09T08:37:49.765Z"
   },
   {
    "duration": 397,
    "start_time": "2023-02-09T08:38:06.832Z"
   },
   {
    "duration": 154,
    "start_time": "2023-02-09T08:38:49.865Z"
   },
   {
    "duration": 286,
    "start_time": "2023-02-09T08:39:01.968Z"
   },
   {
    "duration": 176,
    "start_time": "2023-02-09T08:41:17.872Z"
   },
   {
    "duration": 73,
    "start_time": "2023-02-09T08:41:37.011Z"
   },
   {
    "duration": 172,
    "start_time": "2023-02-09T08:42:18.900Z"
   },
   {
    "duration": 117,
    "start_time": "2023-02-09T08:42:33.933Z"
   },
   {
    "duration": 122,
    "start_time": "2023-02-09T08:43:51.338Z"
   },
   {
    "duration": 173,
    "start_time": "2023-02-09T08:45:12.904Z"
   },
   {
    "duration": 132,
    "start_time": "2023-02-09T08:45:55.762Z"
   },
   {
    "duration": 202,
    "start_time": "2023-02-09T08:46:24.721Z"
   },
   {
    "duration": 122,
    "start_time": "2023-02-09T08:46:40.931Z"
   },
   {
    "duration": 131,
    "start_time": "2023-02-09T08:48:10.788Z"
   },
   {
    "duration": 175,
    "start_time": "2023-02-09T08:48:25.138Z"
   },
   {
    "duration": 160,
    "start_time": "2023-02-09T08:48:42.354Z"
   },
   {
    "duration": 126,
    "start_time": "2023-02-09T08:50:42.337Z"
   },
   {
    "duration": 126,
    "start_time": "2023-02-09T08:50:57.657Z"
   },
   {
    "duration": 11,
    "start_time": "2023-02-09T08:52:51.631Z"
   },
   {
    "duration": 121,
    "start_time": "2023-02-09T08:55:15.270Z"
   },
   {
    "duration": 8,
    "start_time": "2023-02-09T08:55:20.583Z"
   },
   {
    "duration": 2,
    "start_time": "2023-02-09T09:03:08.698Z"
   },
   {
    "duration": 103,
    "start_time": "2023-02-09T09:03:31.262Z"
   },
   {
    "duration": 167,
    "start_time": "2023-02-09T09:11:25.673Z"
   },
   {
    "duration": 134,
    "start_time": "2023-02-09T09:12:37.188Z"
   },
   {
    "duration": 254,
    "start_time": "2023-02-09T09:12:54.383Z"
   },
   {
    "duration": 231,
    "start_time": "2023-02-09T09:13:13.534Z"
   },
   {
    "duration": 148,
    "start_time": "2023-02-09T09:14:04.305Z"
   },
   {
    "duration": 151,
    "start_time": "2023-02-09T09:20:01.869Z"
   },
   {
    "duration": 1277,
    "start_time": "2023-02-09T09:31:13.105Z"
   },
   {
    "duration": 1111,
    "start_time": "2023-02-09T09:33:32.289Z"
   },
   {
    "duration": 127,
    "start_time": "2023-02-09T09:35:06.998Z"
   },
   {
    "duration": 117,
    "start_time": "2023-02-09T09:37:06.811Z"
   },
   {
    "duration": 9,
    "start_time": "2023-02-09T09:37:12.070Z"
   },
   {
    "duration": 1070,
    "start_time": "2023-02-09T09:39:32.933Z"
   },
   {
    "duration": 54,
    "start_time": "2023-02-09T11:05:20.963Z"
   },
   {
    "duration": 926,
    "start_time": "2023-02-09T11:05:32.030Z"
   },
   {
    "duration": 4,
    "start_time": "2023-02-09T11:05:32.958Z"
   },
   {
    "duration": 8188,
    "start_time": "2023-02-09T11:05:32.965Z"
   },
   {
    "duration": 269,
    "start_time": "2023-02-09T11:05:41.155Z"
   },
   {
    "duration": 14,
    "start_time": "2023-02-09T11:05:41.427Z"
   },
   {
    "duration": 153,
    "start_time": "2023-02-09T11:05:41.443Z"
   },
   {
    "duration": 121,
    "start_time": "2023-02-09T11:05:41.598Z"
   },
   {
    "duration": 10,
    "start_time": "2023-02-09T11:05:41.721Z"
   },
   {
    "duration": 149,
    "start_time": "2023-02-09T11:05:41.733Z"
   },
   {
    "duration": 1168,
    "start_time": "2023-02-09T11:05:41.883Z"
   },
   {
    "duration": 186,
    "start_time": "2023-02-09T11:05:43.053Z"
   },
   {
    "duration": 0,
    "start_time": "2023-02-09T11:05:43.242Z"
   },
   {
    "duration": 0,
    "start_time": "2023-02-09T11:05:43.243Z"
   },
   {
    "duration": 0,
    "start_time": "2023-02-09T11:05:43.245Z"
   },
   {
    "duration": 0,
    "start_time": "2023-02-09T11:05:43.246Z"
   },
   {
    "duration": 0,
    "start_time": "2023-02-09T11:05:43.248Z"
   },
   {
    "duration": 0,
    "start_time": "2023-02-09T11:05:43.250Z"
   },
   {
    "duration": 0,
    "start_time": "2023-02-09T11:05:43.251Z"
   },
   {
    "duration": 0,
    "start_time": "2023-02-09T11:05:43.253Z"
   },
   {
    "duration": 0,
    "start_time": "2023-02-09T11:05:43.254Z"
   },
   {
    "duration": 67,
    "start_time": "2023-02-09T11:06:03.860Z"
   },
   {
    "duration": 124,
    "start_time": "2023-02-09T11:07:47.881Z"
   },
   {
    "duration": 875,
    "start_time": "2023-02-09T11:07:58.925Z"
   },
   {
    "duration": 706,
    "start_time": "2023-02-09T11:08:23.401Z"
   },
   {
    "duration": 143,
    "start_time": "2023-02-09T11:09:22.118Z"
   },
   {
    "duration": 138,
    "start_time": "2023-02-09T11:10:03.346Z"
   },
   {
    "duration": 147,
    "start_time": "2023-02-09T11:12:37.872Z"
   },
   {
    "duration": 438,
    "start_time": "2023-02-09T11:13:11.361Z"
   },
   {
    "duration": 152,
    "start_time": "2023-02-09T11:13:36.047Z"
   },
   {
    "duration": 251,
    "start_time": "2023-02-09T11:14:09.786Z"
   },
   {
    "duration": 136,
    "start_time": "2023-02-09T11:16:20.823Z"
   },
   {
    "duration": 135,
    "start_time": "2023-02-09T11:16:32.227Z"
   },
   {
    "duration": 137,
    "start_time": "2023-02-09T11:17:51.152Z"
   },
   {
    "duration": 138,
    "start_time": "2023-02-09T11:20:29.518Z"
   },
   {
    "duration": 130,
    "start_time": "2023-02-09T11:20:48.236Z"
   },
   {
    "duration": 127,
    "start_time": "2023-02-09T11:21:35.934Z"
   },
   {
    "duration": 135,
    "start_time": "2023-02-09T11:21:47.989Z"
   },
   {
    "duration": 134,
    "start_time": "2023-02-09T11:22:28.406Z"
   },
   {
    "duration": 135,
    "start_time": "2023-02-09T11:23:33.387Z"
   },
   {
    "duration": 132,
    "start_time": "2023-02-09T11:23:57.228Z"
   },
   {
    "duration": 3862,
    "start_time": "2023-02-09T11:24:06.083Z"
   },
   {
    "duration": 2396,
    "start_time": "2023-02-09T11:25:47.940Z"
   },
   {
    "duration": 129,
    "start_time": "2023-02-09T11:26:41.212Z"
   },
   {
    "duration": 122,
    "start_time": "2023-02-09T11:26:49.011Z"
   },
   {
    "duration": 138,
    "start_time": "2023-02-09T11:27:11.145Z"
   },
   {
    "duration": 138,
    "start_time": "2023-02-09T11:27:47.158Z"
   },
   {
    "duration": 141,
    "start_time": "2023-02-09T11:29:34.768Z"
   },
   {
    "duration": 119,
    "start_time": "2023-02-09T11:29:58.540Z"
   },
   {
    "duration": 140,
    "start_time": "2023-02-09T11:30:53.725Z"
   },
   {
    "duration": 144,
    "start_time": "2023-02-09T11:31:15.194Z"
   },
   {
    "duration": 140,
    "start_time": "2023-02-09T11:31:53.767Z"
   },
   {
    "duration": 137,
    "start_time": "2023-02-09T11:37:07.487Z"
   },
   {
    "duration": 137,
    "start_time": "2023-02-09T11:39:53.856Z"
   },
   {
    "duration": 88,
    "start_time": "2023-02-09T11:42:51.703Z"
   },
   {
    "duration": 88,
    "start_time": "2023-02-09T11:43:47.977Z"
   },
   {
    "duration": 128,
    "start_time": "2023-02-09T12:20:12.756Z"
   },
   {
    "duration": 124,
    "start_time": "2023-02-09T12:20:31.662Z"
   },
   {
    "duration": 127,
    "start_time": "2023-02-09T12:21:01.063Z"
   },
   {
    "duration": 126,
    "start_time": "2023-02-09T12:21:46.925Z"
   },
   {
    "duration": 126,
    "start_time": "2023-02-09T12:25:12.209Z"
   },
   {
    "duration": 97,
    "start_time": "2023-02-09T12:25:28.473Z"
   },
   {
    "duration": 69,
    "start_time": "2023-02-09T12:27:16.677Z"
   },
   {
    "duration": 1144,
    "start_time": "2023-02-09T12:35:24.306Z"
   },
   {
    "duration": 1216,
    "start_time": "2023-02-09T12:35:39.804Z"
   },
   {
    "duration": 1240,
    "start_time": "2023-02-09T12:36:25.068Z"
   },
   {
    "duration": 1087,
    "start_time": "2023-02-09T12:37:22.032Z"
   },
   {
    "duration": 1072,
    "start_time": "2023-02-09T12:37:52.136Z"
   },
   {
    "duration": 133,
    "start_time": "2023-02-09T12:42:03.713Z"
   },
   {
    "duration": 124,
    "start_time": "2023-02-09T12:42:22.339Z"
   },
   {
    "duration": 1143,
    "start_time": "2023-02-09T12:42:49.754Z"
   },
   {
    "duration": 249,
    "start_time": "2023-02-09T12:59:46.457Z"
   },
   {
    "duration": 216,
    "start_time": "2023-02-09T13:02:12.429Z"
   },
   {
    "duration": 169,
    "start_time": "2023-02-09T13:02:46.404Z"
   },
   {
    "duration": 221,
    "start_time": "2023-02-09T13:04:03.927Z"
   },
   {
    "duration": 359,
    "start_time": "2023-02-09T13:05:19.012Z"
   },
   {
    "duration": 162,
    "start_time": "2023-02-09T13:06:22.720Z"
   },
   {
    "duration": 1042,
    "start_time": "2023-02-09T13:10:02.131Z"
   },
   {
    "duration": 145,
    "start_time": "2023-02-09T13:10:45.354Z"
   },
   {
    "duration": 135,
    "start_time": "2023-02-09T13:15:43.385Z"
   },
   {
    "duration": 141,
    "start_time": "2023-02-09T13:16:23.467Z"
   },
   {
    "duration": 1097,
    "start_time": "2023-02-09T13:16:41.081Z"
   },
   {
    "duration": 1115,
    "start_time": "2023-02-09T13:17:15.421Z"
   },
   {
    "duration": 564,
    "start_time": "2023-02-09T13:18:06.004Z"
   },
   {
    "duration": 237,
    "start_time": "2023-02-09T13:18:41.406Z"
   },
   {
    "duration": 286,
    "start_time": "2023-02-09T13:19:07.056Z"
   },
   {
    "duration": 136,
    "start_time": "2023-02-09T13:20:28.410Z"
   },
   {
    "duration": 226,
    "start_time": "2023-02-09T13:20:39.393Z"
   },
   {
    "duration": 158,
    "start_time": "2023-02-09T13:21:34.328Z"
   },
   {
    "duration": 141,
    "start_time": "2023-02-09T13:22:18.967Z"
   },
   {
    "duration": 134,
    "start_time": "2023-02-09T13:22:37.502Z"
   },
   {
    "duration": 333,
    "start_time": "2023-02-09T13:23:01.139Z"
   },
   {
    "duration": 67,
    "start_time": "2023-02-09T13:29:06.389Z"
   },
   {
    "duration": 11,
    "start_time": "2023-02-09T13:29:13.388Z"
   },
   {
    "duration": 592,
    "start_time": "2023-02-09T13:30:04.964Z"
   },
   {
    "duration": 49,
    "start_time": "2023-02-09T13:30:22.993Z"
   },
   {
    "duration": 16,
    "start_time": "2023-02-09T13:31:40.797Z"
   },
   {
    "duration": 311,
    "start_time": "2023-02-09T13:34:53.827Z"
   },
   {
    "duration": 308,
    "start_time": "2023-02-09T13:34:59.748Z"
   },
   {
    "duration": 16,
    "start_time": "2023-02-09T13:35:05.155Z"
   },
   {
    "duration": 306,
    "start_time": "2023-02-09T13:36:17.850Z"
   },
   {
    "duration": 22,
    "start_time": "2023-02-09T13:40:23.636Z"
   },
   {
    "duration": 11,
    "start_time": "2023-02-09T13:43:07.961Z"
   },
   {
    "duration": 11,
    "start_time": "2023-02-09T13:43:18.678Z"
   },
   {
    "duration": 12,
    "start_time": "2023-02-09T13:43:38.868Z"
   },
   {
    "duration": 25,
    "start_time": "2023-02-09T13:43:42.433Z"
   },
   {
    "duration": 317,
    "start_time": "2023-02-09T13:47:48.633Z"
   },
   {
    "duration": 1329,
    "start_time": "2023-02-09T13:48:09.956Z"
   },
   {
    "duration": 13,
    "start_time": "2023-02-09T13:48:59.205Z"
   },
   {
    "duration": 16,
    "start_time": "2023-02-09T13:49:48.451Z"
   },
   {
    "duration": 30,
    "start_time": "2023-02-09T13:58:06.720Z"
   },
   {
    "duration": 28,
    "start_time": "2023-02-09T14:00:14.431Z"
   },
   {
    "duration": 25,
    "start_time": "2023-02-09T14:00:38.721Z"
   },
   {
    "duration": 470,
    "start_time": "2023-02-09T14:00:46.858Z"
   },
   {
    "duration": 488,
    "start_time": "2023-02-09T14:02:23.786Z"
   },
   {
    "duration": 483,
    "start_time": "2023-02-09T14:02:37.456Z"
   },
   {
    "duration": 104,
    "start_time": "2023-02-09T14:26:52.719Z"
   },
   {
    "duration": 280,
    "start_time": "2023-02-09T14:28:58.516Z"
   },
   {
    "duration": 132,
    "start_time": "2023-02-09T14:32:33.952Z"
   },
   {
    "duration": 140,
    "start_time": "2023-02-09T14:36:25.286Z"
   },
   {
    "duration": 140,
    "start_time": "2023-02-09T14:36:37.160Z"
   },
   {
    "duration": 136,
    "start_time": "2023-02-09T14:37:31.835Z"
   },
   {
    "duration": 101,
    "start_time": "2023-02-09T14:37:43.096Z"
   },
   {
    "duration": 99,
    "start_time": "2023-02-09T14:39:18.307Z"
   },
   {
    "duration": 100,
    "start_time": "2023-02-09T14:39:35.701Z"
   },
   {
    "duration": 99,
    "start_time": "2023-02-09T14:40:03.088Z"
   },
   {
    "duration": 97,
    "start_time": "2023-02-09T14:40:18.185Z"
   },
   {
    "duration": 99,
    "start_time": "2023-02-09T14:40:25.426Z"
   },
   {
    "duration": 104,
    "start_time": "2023-02-09T14:40:41.184Z"
   },
   {
    "duration": 101,
    "start_time": "2023-02-09T14:42:09.345Z"
   },
   {
    "duration": 99,
    "start_time": "2023-02-09T14:42:29.195Z"
   },
   {
    "duration": 99,
    "start_time": "2023-02-09T14:43:03.146Z"
   },
   {
    "duration": 97,
    "start_time": "2023-02-09T14:43:24.508Z"
   },
   {
    "duration": 15,
    "start_time": "2023-02-09T14:45:30.049Z"
   },
   {
    "duration": 11,
    "start_time": "2023-02-09T14:46:17.445Z"
   },
   {
    "duration": 66,
    "start_time": "2023-02-09T14:46:34.088Z"
   },
   {
    "duration": 160,
    "start_time": "2023-02-09T14:47:58.780Z"
   },
   {
    "duration": 168,
    "start_time": "2023-02-09T14:49:20.743Z"
   },
   {
    "duration": 72,
    "start_time": "2023-02-09T14:51:49.413Z"
   },
   {
    "duration": 125,
    "start_time": "2023-02-09T14:53:27.084Z"
   },
   {
    "duration": 71,
    "start_time": "2023-02-09T14:53:56.629Z"
   },
   {
    "duration": 165,
    "start_time": "2023-02-09T14:59:21.125Z"
   },
   {
    "duration": 268,
    "start_time": "2023-02-09T14:59:37.953Z"
   },
   {
    "duration": 181,
    "start_time": "2023-02-09T14:59:44.888Z"
   },
   {
    "duration": 97,
    "start_time": "2023-02-09T14:59:53.067Z"
   },
   {
    "duration": 143,
    "start_time": "2023-02-09T15:04:35.007Z"
   },
   {
    "duration": 124,
    "start_time": "2023-02-09T15:04:51.693Z"
   },
   {
    "duration": 162,
    "start_time": "2023-02-09T15:05:40.485Z"
   },
   {
    "duration": 147,
    "start_time": "2023-02-09T15:06:35.499Z"
   },
   {
    "duration": 141,
    "start_time": "2023-02-09T15:06:56.639Z"
   },
   {
    "duration": 139,
    "start_time": "2023-02-09T15:07:38.681Z"
   },
   {
    "duration": 144,
    "start_time": "2023-02-09T15:08:21.618Z"
   },
   {
    "duration": 126,
    "start_time": "2023-02-09T15:09:37.840Z"
   },
   {
    "duration": 154,
    "start_time": "2023-02-09T15:10:06.979Z"
   },
   {
    "duration": 1439,
    "start_time": "2023-02-09T15:10:34.923Z"
   },
   {
    "duration": 90,
    "start_time": "2023-02-09T15:11:05.058Z"
   },
   {
    "duration": 70,
    "start_time": "2023-02-09T15:11:21.077Z"
   },
   {
    "duration": 68,
    "start_time": "2023-02-09T15:11:39.069Z"
   },
   {
    "duration": 310,
    "start_time": "2023-02-09T15:12:52.032Z"
   },
   {
    "duration": 12,
    "start_time": "2023-02-09T15:13:20.284Z"
   },
   {
    "duration": 468,
    "start_time": "2023-02-09T15:13:37.173Z"
   },
   {
    "duration": 102,
    "start_time": "2023-02-09T15:14:26.963Z"
   },
   {
    "duration": 1271,
    "start_time": "2023-02-10T00:58:42.985Z"
   },
   {
    "duration": 4,
    "start_time": "2023-02-10T00:58:44.257Z"
   },
   {
    "duration": 8125,
    "start_time": "2023-02-10T00:58:44.262Z"
   },
   {
    "duration": 51,
    "start_time": "2023-02-10T00:58:52.389Z"
   },
   {
    "duration": 19,
    "start_time": "2023-02-10T00:58:52.441Z"
   },
   {
    "duration": 124,
    "start_time": "2023-02-10T00:58:52.461Z"
   },
   {
    "duration": 102,
    "start_time": "2023-02-10T00:58:52.587Z"
   },
   {
    "duration": 15,
    "start_time": "2023-02-10T00:58:52.691Z"
   },
   {
    "duration": 130,
    "start_time": "2023-02-10T00:58:52.707Z"
   },
   {
    "duration": 1168,
    "start_time": "2023-02-10T00:58:52.840Z"
   },
   {
    "duration": 60,
    "start_time": "2023-02-10T00:58:54.010Z"
   },
   {
    "duration": 43,
    "start_time": "2023-02-10T00:58:54.072Z"
   },
   {
    "duration": 1140,
    "start_time": "2023-02-10T00:58:54.126Z"
   },
   {
    "duration": 281,
    "start_time": "2023-02-10T00:58:55.268Z"
   },
   {
    "duration": 446,
    "start_time": "2023-02-10T00:58:55.551Z"
   },
   {
    "duration": 67,
    "start_time": "2023-02-10T00:58:55.999Z"
   },
   {
    "duration": 70,
    "start_time": "2023-02-10T00:58:56.068Z"
   },
   {
    "duration": 98,
    "start_time": "2023-02-10T00:58:56.140Z"
   },
   {
    "duration": 228,
    "start_time": "2023-02-10T00:59:15.328Z"
   },
   {
    "duration": 94,
    "start_time": "2023-02-10T00:59:31.359Z"
   },
   {
    "duration": 231,
    "start_time": "2023-02-10T00:59:42.365Z"
   },
   {
    "duration": 265,
    "start_time": "2023-02-10T01:01:34.176Z"
   },
   {
    "duration": 102,
    "start_time": "2023-02-10T01:02:37.716Z"
   },
   {
    "duration": 105,
    "start_time": "2023-02-10T01:03:42.826Z"
   },
   {
    "duration": 81,
    "start_time": "2023-02-10T01:05:34.621Z"
   },
   {
    "duration": 198,
    "start_time": "2023-02-10T01:05:55.651Z"
   },
   {
    "duration": 223,
    "start_time": "2023-02-10T01:06:57.408Z"
   },
   {
    "duration": 224,
    "start_time": "2023-02-10T01:07:16.563Z"
   },
   {
    "duration": 1448,
    "start_time": "2023-02-10T18:56:20.416Z"
   },
   {
    "duration": 4,
    "start_time": "2023-02-10T18:56:21.866Z"
   },
   {
    "duration": 7358,
    "start_time": "2023-02-10T18:56:21.872Z"
   },
   {
    "duration": 244,
    "start_time": "2023-02-10T18:56:29.234Z"
   },
   {
    "duration": 17,
    "start_time": "2023-02-10T18:56:29.480Z"
   },
   {
    "duration": 169,
    "start_time": "2023-02-10T18:56:29.499Z"
   },
   {
    "duration": 121,
    "start_time": "2023-02-10T18:56:29.670Z"
   },
   {
    "duration": 11,
    "start_time": "2023-02-10T18:56:29.793Z"
   },
   {
    "duration": 149,
    "start_time": "2023-02-10T18:56:29.805Z"
   },
   {
    "duration": 1288,
    "start_time": "2023-02-10T18:56:29.956Z"
   },
   {
    "duration": 92,
    "start_time": "2023-02-10T18:56:31.245Z"
   },
   {
    "duration": 72,
    "start_time": "2023-02-10T18:56:31.339Z"
   },
   {
    "duration": 1261,
    "start_time": "2023-02-10T18:56:31.413Z"
   },
   {
    "duration": 321,
    "start_time": "2023-02-10T18:56:32.676Z"
   },
   {
    "duration": 545,
    "start_time": "2023-02-10T18:56:32.998Z"
   },
   {
    "duration": 101,
    "start_time": "2023-02-10T18:56:33.545Z"
   },
   {
    "duration": 88,
    "start_time": "2023-02-10T18:56:33.648Z"
   },
   {
    "duration": 136,
    "start_time": "2023-02-10T18:56:33.738Z"
   },
   {
    "duration": 253,
    "start_time": "2023-02-10T19:07:10.482Z"
   },
   {
    "duration": 14,
    "start_time": "2023-02-10T19:07:15.160Z"
   },
   {
    "duration": 124,
    "start_time": "2023-02-10T19:08:56.480Z"
   },
   {
    "duration": 260,
    "start_time": "2023-02-10T19:09:35.250Z"
   },
   {
    "duration": 75,
    "start_time": "2023-02-10T19:19:23.011Z"
   },
   {
    "duration": 148,
    "start_time": "2023-02-10T19:24:27.760Z"
   },
   {
    "duration": 505,
    "start_time": "2023-02-10T19:27:58.428Z"
   },
   {
    "duration": 472,
    "start_time": "2023-02-10T19:28:23.319Z"
   },
   {
    "duration": 437,
    "start_time": "2023-02-10T19:29:27.047Z"
   },
   {
    "duration": 481,
    "start_time": "2023-02-10T19:29:47.009Z"
   },
   {
    "duration": 513,
    "start_time": "2023-02-10T19:30:20.049Z"
   },
   {
    "duration": 476,
    "start_time": "2023-02-10T19:30:33.920Z"
   },
   {
    "duration": 421,
    "start_time": "2023-02-10T19:30:41.668Z"
   },
   {
    "duration": 430,
    "start_time": "2023-02-10T19:31:23.479Z"
   },
   {
    "duration": 423,
    "start_time": "2023-02-10T19:31:34.815Z"
   },
   {
    "duration": 408,
    "start_time": "2023-02-10T19:32:25.660Z"
   },
   {
    "duration": 597,
    "start_time": "2023-02-10T19:32:40.532Z"
   },
   {
    "duration": 431,
    "start_time": "2023-02-10T19:32:46.191Z"
   },
   {
    "duration": 363,
    "start_time": "2023-02-10T19:32:58.734Z"
   },
   {
    "duration": 446,
    "start_time": "2023-02-10T19:33:11.914Z"
   },
   {
    "duration": 86,
    "start_time": "2023-02-10T19:36:20.569Z"
   },
   {
    "duration": 274,
    "start_time": "2023-02-10T19:51:04.230Z"
   },
   {
    "duration": 10,
    "start_time": "2023-02-10T19:51:09.649Z"
   },
   {
    "duration": 1351,
    "start_time": "2023-02-10T19:52:56.007Z"
   },
   {
    "duration": 4,
    "start_time": "2023-02-10T19:52:57.360Z"
   },
   {
    "duration": 7643,
    "start_time": "2023-02-10T19:52:57.366Z"
   },
   {
    "duration": 227,
    "start_time": "2023-02-10T19:53:05.010Z"
   },
   {
    "duration": 16,
    "start_time": "2023-02-10T19:53:05.239Z"
   },
   {
    "duration": 149,
    "start_time": "2023-02-10T19:53:05.257Z"
   },
   {
    "duration": 267,
    "start_time": "2023-02-10T19:53:05.409Z"
   },
   {
    "duration": 18,
    "start_time": "2023-02-10T19:53:05.678Z"
   },
   {
    "duration": 151,
    "start_time": "2023-02-10T19:53:05.699Z"
   },
   {
    "duration": 1286,
    "start_time": "2023-02-10T19:53:05.852Z"
   },
   {
    "duration": 88,
    "start_time": "2023-02-10T19:53:07.140Z"
   },
   {
    "duration": 67,
    "start_time": "2023-02-10T19:53:07.230Z"
   },
   {
    "duration": 1298,
    "start_time": "2023-02-10T19:53:07.299Z"
   },
   {
    "duration": 302,
    "start_time": "2023-02-10T19:53:08.600Z"
   },
   {
    "duration": 468,
    "start_time": "2023-02-10T19:53:08.903Z"
   },
   {
    "duration": 101,
    "start_time": "2023-02-10T19:53:09.374Z"
   },
   {
    "duration": 89,
    "start_time": "2023-02-10T19:53:09.476Z"
   },
   {
    "duration": 132,
    "start_time": "2023-02-10T19:53:09.567Z"
   },
   {
    "duration": 75,
    "start_time": "2023-02-11T20:00:47.781Z"
   }
  ],
  "colab": {
   "name": "AdvansedSQLProjectTemplate.ipynb",
   "provenance": []
  },
  "kernelspec": {
   "display_name": "Python 3 (ipykernel)",
   "language": "python",
   "name": "python3"
  },
  "language_info": {
   "codemirror_mode": {
    "name": "ipython",
    "version": 3
   },
   "file_extension": ".py",
   "mimetype": "text/x-python",
   "name": "python",
   "nbconvert_exporter": "python",
   "pygments_lexer": "ipython3",
   "version": "3.9.13"
  },
  "toc": {
   "base_numbering": 1,
   "nav_menu": {},
   "number_sections": true,
   "sideBar": true,
   "skip_h1_title": true,
   "title_cell": "Table of Contents",
   "title_sidebar": "Contents",
   "toc_cell": false,
   "toc_position": {},
   "toc_section_display": true,
   "toc_window_display": false
  }
 },
 "nbformat": 4,
 "nbformat_minor": 1
}
